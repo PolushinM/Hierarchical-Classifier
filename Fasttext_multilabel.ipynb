{
 "cells": [
  {
   "cell_type": "markdown",
   "id": "2f6a0f82",
   "metadata": {},
   "source": [
    "## Бейзлайн - простейший плоский классификатор на основе библиотеки FastText."
   ]
  },
  {
   "cell_type": "code",
   "execution_count": 1,
   "id": "6e42c57a",
   "metadata": {},
   "outputs": [],
   "source": [
    "import os\n",
    "from pathlib import Path\n",
    "import fasttext\n",
    "import numpy as np \n",
    "import pandas as pd\n",
    "import csv\n",
    "from gensim.utils import simple_preprocess\n",
    "\n",
    "from HierarhicalLibrary import CategoryTree, Classifier"
   ]
  },
  {
   "cell_type": "code",
   "execution_count": 2,
   "id": "293d24ea",
   "metadata": {},
   "outputs": [],
   "source": [
    "# Method for increasing the weight of the first words of title\n",
    "def word_pyramid(string: str, min_n_words: int, max_n_words: int) -> list:\n",
    "    result = []\n",
    "    split = string.split(' ')\n",
    "    for i in range(min_n_words, max_n_words+1):\n",
    "        result += split[:i]\n",
    "    return ' '.join(result)\n",
    "\n",
    "# Predicting labels and probabilities for list of documents \n",
    "def predict_proba(documents: list) -> tuple:\n",
    "    prediction = model.predict(documents, k=1)\n",
    "    labels_result = []\n",
    "    proba_result = []\n",
    "    for label in prediction[0]:\n",
    "        labels_result.append(int(label[0][9:]))\n",
    "    return np.array(labels_result), np.array(prediction[1])[:, 0]\n",
    "\n",
    "# Predicting on a single input\n",
    "def predict(document):\n",
    "    return int(model.predict(document)[0][0][9:])\n",
    "\n",
    "# Test data preparation\n",
    "def get_prepared_test_data(df_in: pd.DataFrame) -> pd.DataFrame:\n",
    "    df=df_in.copy()\n",
    "    df.drop(['rating', 'feedback_quantity'], axis=1, inplace=True)\n",
    "    df.title = df.title.astype('string')\n",
    "    df.short_description = df.short_description.astype('string')\n",
    "    df.fillna(value='', inplace=True)\n",
    "    df.name_value_characteristics = df.name_value_characteristics.astype('string')\n",
    "    df = df.assign(Document=[str(x) + ' ' + str(y) + ' ' + str(z) + ' ' + word_pyramid(x, 2, 3) for x, y, z in zip(df['title'], df['short_description'], df['name_value_characteristics'])])\n",
    "    df.drop(['title', 'short_description', 'name_value_characteristics'], axis=1, inplace=True)\n",
    "    df.Document = df.Document.astype('string')\n",
    "    df.Document = df.Document.apply(lambda x: ' '.join(simple_preprocess(x)))\n",
    "    return df\n",
    "\n",
    "def get_fasttext_multilabels(cat_tree: object, category_id: int) -> str:\n",
    "    node_list = []\n",
    "    for node in cat_tree.get_id_path(category_id):\n",
    "        node_list.append(''.join(['__label__', str(node)]))\n",
    "    return ' '.join(node_list)\n",
    "    "
   ]
  },
  {
   "cell_type": "markdown",
   "id": "81f8b0ee",
   "metadata": {},
   "source": [
    "Подготавливаем полный, тренировочный и валидационный датасеты:\n",
    "перемешиваем данные в фрейме,\n",
    "удаляем колонки рейтинга и кол-ва отзывов,\n",
    "корректируем типы данных колонок,\n",
    "заполняем пропущенные значения,\n",
    "текст из колонок 'title', 'short_description' и 'name_value_characteristics' объединяем в колонку \"Document\", добавляем первые слова из колонки 'title', чтобы увеличить их вес (самые важные слова - в начале описания)."
   ]
  },
  {
   "cell_type": "code",
   "execution_count": 3,
   "id": "c5b13bf6",
   "metadata": {},
   "outputs": [],
   "source": [
    "full_train_data = pd.read_parquet('train.parquet')\n",
    "\n",
    "data_full = full_train_data.sample(frac=1, random_state=1).copy()\n",
    "data_full.drop(['rating', 'feedback_quantity'], axis=1, inplace=True)\n",
    "data_full.title = data_full.title.astype('string')\n",
    "data_full.short_description = data_full.short_description.astype('string')\n",
    "data_full.fillna(value='', inplace=True)\n",
    "data_full.name_value_characteristics = data_full.name_value_characteristics.astype('string')\n",
    "data_full = data_full.assign(Document=[str(x) + ' ' + str(y) + ' ' + str(z) + ' ' + word_pyramid(x, 2, 3) for x, y, z in zip(data_full['title'], data_full['short_description'], data_full['name_value_characteristics'])])\n",
    "data_full.drop(['title', 'short_description', 'name_value_characteristics'], axis=1, inplace=True)\n",
    "data_full.Document = data_full.Document.astype('string')\n",
    "\n",
    "data = data_full[:-4000].reset_index(drop=True)\n",
    "data_valid = data_full[-4000:].reset_index(drop=True)\n"
   ]
  },
  {
   "cell_type": "markdown",
   "id": "171d1a7a",
   "metadata": {},
   "source": [
    "Строим дерево каталога"
   ]
  },
  {
   "cell_type": "code",
   "execution_count": 4,
   "id": "4eae83ed",
   "metadata": {},
   "outputs": [],
   "source": [
    "cat_tree_df = pd.read_csv('categories_tree.csv', index_col=0)"
   ]
  },
  {
   "cell_type": "code",
   "execution_count": 5,
   "id": "1da990ff",
   "metadata": {},
   "outputs": [],
   "source": [
    "cat_tree = CategoryTree()\n",
    "cat_tree.add_nodes_from_df(cat_tree_df, parent_id_col='parent_id', title_col='title')\n",
    "cat_tree.add_goods_from_df(data_full, category_id_col='category_id', good_id_col='id')"
   ]
  },
  {
   "cell_type": "code",
   "execution_count": 6,
   "id": "0a736ac1",
   "metadata": {},
   "outputs": [],
   "source": [
    "classifier = Classifier()"
   ]
  },
  {
   "cell_type": "markdown",
   "id": "0652c45c",
   "metadata": {},
   "source": [
    "Преобразуем данные в формат, принимаемый FastText."
   ]
  },
  {
   "cell_type": "code",
   "execution_count": 7,
   "id": "f5589f32",
   "metadata": {},
   "outputs": [],
   "source": [
    "data.Document = data.Document.apply(lambda x: ' '.join(simple_preprocess(x)))\n",
    "data_valid.Document = data_valid.Document.apply(lambda x: ' '.join(simple_preprocess(x)))\n",
    "\n",
    "data.category_id = data.category_id.apply(lambda x: get_fasttext_multilabels(cat_tree, x))\n",
    "data_valid.category_id = data_valid.category_id.apply(lambda x: get_fasttext_multilabels(cat_tree, x))"
   ]
  },
  {
   "cell_type": "code",
   "execution_count": 8,
   "id": "bc69e9fe",
   "metadata": {},
   "outputs": [
    {
     "data": {
      "text/plain": [
       "id                                                        304936\n",
       "category_id    __label__12917 __label__11328 __label__10091 _...\n",
       "Document       силиконовый дорожный контейнер футляр чехол дл...\n",
       "Name: 1, dtype: object"
      ]
     },
     "execution_count": 8,
     "metadata": {},
     "output_type": "execute_result"
    }
   ],
   "source": [
    "data.iloc[1]"
   ]
  },
  {
   "cell_type": "markdown",
   "id": "586e01ef",
   "metadata": {},
   "source": [
    "FastText принимает данные в виде текстовых файлов, поэтому сохраняем данные на диск."
   ]
  },
  {
   "cell_type": "code",
   "execution_count": 9,
   "id": "67a609f5",
   "metadata": {},
   "outputs": [],
   "source": [
    "# Saving the CSV file as a text file to train/test the classifier\n",
    "data[['Document', 'category_id']].to_csv('train_fasttext.txt', \n",
    "                                          index = False, \n",
    "                                          sep = ' ',\n",
    "                                          header = None, \n",
    "                                          quoting = csv.QUOTE_NONE, \n",
    "                                          quotechar = \"\", \n",
    "                                          escapechar = \" \")\n",
    "\n",
    "data_valid[['Document', 'category_id']].to_csv('test_fasttext.txt', \n",
    "                                               index = False, \n",
    "                                               sep = ' ',\n",
    "                                               header = None, \n",
    "                                               quoting = csv.QUOTE_NONE, \n",
    "                                               quotechar = \"\", \n",
    "                                               escapechar = \" \")\n"
   ]
  },
  {
   "cell_type": "markdown",
   "id": "be9f3994",
   "metadata": {},
   "source": [
    "Обучаем модель."
   ]
  },
  {
   "cell_type": "code",
   "execution_count": 29,
   "id": "e843673b",
   "metadata": {},
   "outputs": [
    {
     "name": "stderr",
     "output_type": "stream",
     "text": [
      "Read 5M words\n",
      "Number of words:  87455\n",
      "Number of labels: 1475\n",
      "Progress: 100.0% words/sec/thread:  108335 lr:  0.000000 avg.loss: 30.973497 ETA:   0h 0m 0ss\n"
     ]
    }
   ],
   "source": [
    "# Training the fastText classifier\n",
    "model = fasttext.train_supervised('train_fasttext.txt',\n",
    "                                  lr=0.01,                \n",
    "                                  dim=32,               \n",
    "                                  ws=4, \n",
    "                                  loss='ova',                                  \n",
    "                                  epoch=1,             \n",
    "                                  neg=5,               \n",
    "                                  wordNgrams=3)\n",
    "classifier.fasttext = model"
   ]
  },
  {
   "cell_type": "markdown",
   "id": "0a1d957e",
   "metadata": {},
   "source": [
    "При необходимости, сохраняем или загружаем модель."
   ]
  },
  {
   "cell_type": "code",
   "execution_count": 8,
   "id": "45a17a29",
   "metadata": {},
   "outputs": [],
   "source": [
    "# Save the trained model\n",
    "path = os.path.join(Path(\".\").parent, 'FastText_baseline', )\n",
    "model.save_model('fasttext_multilabel_model')"
   ]
  },
  {
   "cell_type": "code",
   "execution_count": 8,
   "id": "e5c86b81",
   "metadata": {
    "scrolled": true
   },
   "outputs": [
    {
     "name": "stderr",
     "output_type": "stream",
     "text": [
      "Warning : `load_model` does not return WordVectorModel or SupervisedModel any more, but a `FastText` object which is very similar.\n"
     ]
    },
    {
     "ename": "ValueError",
     "evalue": "fasttext_model cannot be opened for loading!",
     "output_type": "error",
     "traceback": [
      "\u001b[0;31m---------------------------------------------------------------------------\u001b[0m",
      "\u001b[0;31mValueError\u001b[0m                                Traceback (most recent call last)",
      "Input \u001b[0;32mIn [8]\u001b[0m, in \u001b[0;36m<cell line: 2>\u001b[0;34m()\u001b[0m\n\u001b[1;32m      1\u001b[0m \u001b[38;5;66;03m# Load the trained model\u001b[39;00m\n\u001b[0;32m----> 2\u001b[0m classifier\u001b[38;5;241m.\u001b[39mfasttext \u001b[38;5;241m=\u001b[39m \u001b[43mfasttext\u001b[49m\u001b[38;5;241;43m.\u001b[39;49m\u001b[43mload_model\u001b[49m\u001b[43m(\u001b[49m\u001b[38;5;124;43m'\u001b[39;49m\u001b[38;5;124;43mfasttext_model\u001b[39;49m\u001b[38;5;124;43m'\u001b[39;49m\u001b[43m)\u001b[49m\n",
      "File \u001b[0;32m~/anaconda3/envs/ARTMenv/lib/python3.8/site-packages/fasttext/FastText.py:441\u001b[0m, in \u001b[0;36mload_model\u001b[0;34m(path)\u001b[0m\n\u001b[1;32m    439\u001b[0m \u001b[38;5;124;03m\"\"\"Load a model given a filepath and return a model object.\"\"\"\u001b[39;00m\n\u001b[1;32m    440\u001b[0m eprint(\u001b[38;5;124m\"\u001b[39m\u001b[38;5;124mWarning : `load_model` does not return WordVectorModel or SupervisedModel any more, but a `FastText` object which is very similar.\u001b[39m\u001b[38;5;124m\"\u001b[39m)\n\u001b[0;32m--> 441\u001b[0m \u001b[38;5;28;01mreturn\u001b[39;00m \u001b[43m_FastText\u001b[49m\u001b[43m(\u001b[49m\u001b[43mmodel_path\u001b[49m\u001b[38;5;241;43m=\u001b[39;49m\u001b[43mpath\u001b[49m\u001b[43m)\u001b[49m\n",
      "File \u001b[0;32m~/anaconda3/envs/ARTMenv/lib/python3.8/site-packages/fasttext/FastText.py:98\u001b[0m, in \u001b[0;36m_FastText.__init__\u001b[0;34m(self, model_path, args)\u001b[0m\n\u001b[1;32m     96\u001b[0m \u001b[38;5;28mself\u001b[39m\u001b[38;5;241m.\u001b[39mf \u001b[38;5;241m=\u001b[39m fasttext\u001b[38;5;241m.\u001b[39mfasttext()\n\u001b[1;32m     97\u001b[0m \u001b[38;5;28;01mif\u001b[39;00m model_path \u001b[38;5;129;01mis\u001b[39;00m \u001b[38;5;129;01mnot\u001b[39;00m \u001b[38;5;28;01mNone\u001b[39;00m:\n\u001b[0;32m---> 98\u001b[0m     \u001b[38;5;28;43mself\u001b[39;49m\u001b[38;5;241;43m.\u001b[39;49m\u001b[43mf\u001b[49m\u001b[38;5;241;43m.\u001b[39;49m\u001b[43mloadModel\u001b[49m\u001b[43m(\u001b[49m\u001b[43mmodel_path\u001b[49m\u001b[43m)\u001b[49m\n\u001b[1;32m     99\u001b[0m \u001b[38;5;28mself\u001b[39m\u001b[38;5;241m.\u001b[39m_words \u001b[38;5;241m=\u001b[39m \u001b[38;5;28;01mNone\u001b[39;00m\n\u001b[1;32m    100\u001b[0m \u001b[38;5;28mself\u001b[39m\u001b[38;5;241m.\u001b[39m_labels \u001b[38;5;241m=\u001b[39m \u001b[38;5;28;01mNone\u001b[39;00m\n",
      "\u001b[0;31mValueError\u001b[0m: fasttext_model cannot be opened for loading!"
     ]
    }
   ],
   "source": [
    "# Load the trained model\n",
    "classifier.fasttext = fasttext.load_model('fasttext_model')"
   ]
  },
  {
   "cell_type": "code",
   "execution_count": null,
   "id": "f121a0e9",
   "metadata": {},
   "outputs": [],
   "source": []
  },
  {
   "cell_type": "code",
   "execution_count": null,
   "id": "74cd64e9",
   "metadata": {},
   "outputs": [],
   "source": []
  },
  {
   "cell_type": "code",
   "execution_count": null,
   "id": "13e9849e",
   "metadata": {},
   "outputs": [],
   "source": []
  },
  {
   "cell_type": "code",
   "execution_count": null,
   "id": "54e2eb3f",
   "metadata": {},
   "outputs": [],
   "source": []
  },
  {
   "cell_type": "markdown",
   "id": "d528bb3a",
   "metadata": {},
   "source": [
    "Проверяем качество классификации на трейне:"
   ]
  },
  {
   "cell_type": "code",
   "execution_count": 17,
   "id": "fe9015a7",
   "metadata": {},
   "outputs": [],
   "source": [
    "# Evaluating performance on the entire train file\n",
    "_, precision, recall = classifier.fasttext.test('train_fasttext.txt') \n",
    "leaf_F1 = (2*precision*recall) / (precision+recall)"
   ]
  },
  {
   "cell_type": "code",
   "execution_count": 18,
   "id": "5640ce10",
   "metadata": {},
   "outputs": [
    {
     "name": "stdout",
     "output_type": "stream",
     "text": [
      "Train Leaf_F1=0.4068\n"
     ]
    }
   ],
   "source": [
    "print(f'Train Leaf_F1={leaf_F1:.4f}') "
   ]
  },
  {
   "cell_type": "markdown",
   "id": "9eace4a2",
   "metadata": {},
   "source": [
    "Проверяем качество классификации на тестовой выборке:"
   ]
  },
  {
   "cell_type": "code",
   "execution_count": 31,
   "id": "383469b1",
   "metadata": {},
   "outputs": [],
   "source": [
    "# Evaluating performance on the entire test file\n",
    "_, precision, recall = classifier.fasttext.test('test_fasttext.txt')                      \n",
    "leaf_F1 = (2*precision*recall) / (precision+recall)"
   ]
  },
  {
   "cell_type": "code",
   "execution_count": 32,
   "id": "6571fbea",
   "metadata": {},
   "outputs": [
    {
     "name": "stdout",
     "output_type": "stream",
     "text": [
      "Test Leaf_F1=0.3432\n"
     ]
    }
   ],
   "source": [
    "print(f'Test Leaf_F1={leaf_F1:.4f}') "
   ]
  },
  {
   "cell_type": "code",
   "execution_count": 11,
   "id": "08290af8",
   "metadata": {},
   "outputs": [],
   "source": []
  },
  {
   "cell_type": "code",
   "execution_count": 12,
   "id": "a1d39287",
   "metadata": {},
   "outputs": [
    {
     "name": "stderr",
     "output_type": "stream",
     "text": [
      "Warning : `load_model` does not return WordVectorModel or SupervisedModel any more, but a `FastText` object which is very similar.\n"
     ]
    }
   ],
   "source": []
  },
  {
   "cell_type": "markdown",
   "id": "a67e566c",
   "metadata": {},
   "source": [
    "Для того чтобы проверить качество иерархической классификации, инициализируем и заполняем класс дерева категорий."
   ]
  },
  {
   "cell_type": "markdown",
   "id": "c85822c3",
   "metadata": {},
   "source": [
    "Считаем метрики для train датасета."
   ]
  },
  {
   "cell_type": "code",
   "execution_count": 15,
   "id": "2d797ddb",
   "metadata": {},
   "outputs": [
    {
     "name": "stdout",
     "output_type": "stream",
     "text": [
      "Train hF1=0.9904\n",
      "Train hF1_01=0.9936\n"
     ]
    }
   ],
   "source": [
    "data_test = data[:10000].copy()\n",
    "data_test.category_id = data_test.category_id.apply(lambda text: text[9:]).astype('int')\n",
    "data_test['predicted_id'] = data_test.Document.astype('string')\n",
    "data_test.predicted_id = data_test.predicted_id.apply(lambda text: predict(text)).astype('int')\n",
    "\n",
    "test_target = data_test.category_id.tolist()\n",
    "pred_leafs = data_test.predicted_id.tolist()\n",
    "\n",
    "print(f'Train hF1={cat_tree.hF1_score(test_target, pred_leafs):.4f}') #0.9187\n",
    "print(f'Train hF1_01={cat_tree.hF1_score_01(test_target, pred_leafs):.4f}') #0.9463"
   ]
  },
  {
   "cell_type": "markdown",
   "id": "f5aaa9a2",
   "metadata": {},
   "source": [
    "Предсказываем категории в тестовом сете."
   ]
  },
  {
   "cell_type": "code",
   "execution_count": 16,
   "id": "0ae34502",
   "metadata": {},
   "outputs": [],
   "source": [
    "data_valid_test = data_valid.copy()\n",
    "data_valid_test.category_id = data_valid_test.category_id.apply(lambda text: text[9:]).astype('int')\n",
    "data_valid_test['predicted_id'] = data_valid_test.Document.astype('string')\n",
    "data_valid_test.predicted_id = data_valid_test.predicted_id.apply(lambda text: predict(text)).astype('int')"
   ]
  },
  {
   "cell_type": "markdown",
   "id": "8d679ea0",
   "metadata": {},
   "source": [
    "Подготавливаем данные для расчета иерархической метрики."
   ]
  },
  {
   "cell_type": "code",
   "execution_count": 17,
   "id": "0c54617d",
   "metadata": {},
   "outputs": [],
   "source": [
    "test_target = data_valid_test.category_id.tolist()\n",
    "pred_leafs = data_valid_test.predicted_id.tolist()"
   ]
  },
  {
   "cell_type": "markdown",
   "id": "804436cc",
   "metadata": {},
   "source": [
    "Расчет иерархической F1-меры. "
   ]
  },
  {
   "cell_type": "code",
   "execution_count": 18,
   "id": "c3f5beef",
   "metadata": {},
   "outputs": [
    {
     "name": "stdout",
     "output_type": "stream",
     "text": [
      "Validation hF1=0.9166\n",
      "Validation hF1_01=0.9449\n"
     ]
    }
   ],
   "source": [
    "print(f'Validation hF1={cat_tree.hF1_score(test_target, pred_leafs):.4f}') #0.9187\n",
    "print(f'Validation hF1_01={cat_tree.hF1_score_01(test_target, pred_leafs):.4f}') #0.9463"
   ]
  },
  {
   "cell_type": "markdown",
   "id": "d54c0d0b",
   "metadata": {},
   "source": [
    "Несмотря на простоту алгоритма, после подбора гиперпараметров получился очень хороший бейзлайн, hF1=0.91."
   ]
  },
  {
   "cell_type": "code",
   "execution_count": null,
   "id": "ddb1d39b",
   "metadata": {},
   "outputs": [],
   "source": []
  },
  {
   "cell_type": "code",
   "execution_count": null,
   "id": "4f461032",
   "metadata": {},
   "outputs": [],
   "source": []
  }
 ],
 "metadata": {
  "kernelspec": {
   "display_name": "Python 3 (ipykernel)",
   "language": "python",
   "name": "python3"
  },
  "language_info": {
   "codemirror_mode": {
    "name": "ipython",
    "version": 3
   },
   "file_extension": ".py",
   "mimetype": "text/x-python",
   "name": "python",
   "nbconvert_exporter": "python",
   "pygments_lexer": "ipython3",
   "version": "3.8.13"
  }
 },
 "nbformat": 4,
 "nbformat_minor": 5
}
