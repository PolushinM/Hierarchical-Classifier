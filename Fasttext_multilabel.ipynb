{
 "cells": [
  {
   "cell_type": "markdown",
   "id": "2f6a0f82",
   "metadata": {},
   "source": [
    "## Бейзлайн - простейший плоский классификатор на основе библиотеки FastText."
   ]
  },
  {
   "cell_type": "code",
   "execution_count": 1,
   "id": "6e42c57a",
   "metadata": {},
   "outputs": [],
   "source": [
    "import os\n",
    "from pathlib import Path\n",
    "import fasttext\n",
    "import numpy as np \n",
    "import pandas as pd\n",
    "import csv\n",
    "from gensim.utils import simple_preprocess\n",
    "\n",
    "from HierarchicalLibrary import CategoryTree, Classifier"
   ]
  },
  {
   "cell_type": "code",
   "execution_count": 2,
   "id": "293d24ea",
   "metadata": {},
   "outputs": [],
   "source": [
    "# Method for increasing the weight of the first words of title\n",
    "def word_pyramid(string: str, min_n_words: int, max_n_words: int) -> list:\n",
    "    result = []\n",
    "    split = string.split(' ')\n",
    "    for i in range(min_n_words, max_n_words+1):\n",
    "        result += split[:i]\n",
    "    return ' '.join(result)\n",
    "\n",
    "# Predicting labels and probabilities for list of documents \n",
    "def predict_proba(documents: list) -> tuple:\n",
    "    prediction = model.predict(documents, k=1)\n",
    "    labels_result = []\n",
    "    proba_result = []\n",
    "    for label in prediction[0]:\n",
    "        labels_result.append(int(label[0][9:]))\n",
    "    return np.array(labels_result), np.array(prediction[1])[:, 0]\n",
    "\n",
    "# Predicting on a single input\n",
    "def predict(document):\n",
    "    return int(model.predict(document)[0][0][9:])\n",
    "\n",
    "# Test data preparation\n",
    "def get_prepared_test_data(df_in: pd.DataFrame) -> pd.DataFrame:\n",
    "    df=df_in.copy()\n",
    "    df.drop(['rating', 'feedback_quantity'], axis=1, inplace=True)\n",
    "    df.title = df.title.astype('string')\n",
    "    df.short_description = df.short_description.astype('string')\n",
    "    df.fillna(value='', inplace=True)\n",
    "    df.name_value_characteristics = df.name_value_characteristics.astype('string')\n",
    "    df = df.assign(Document=[str(x) + ' ' + str(y) + ' ' + str(z) + ' ' + word_pyramid(x, 2, 3) for x, y, z in zip(df['title'], df['short_description'], df['name_value_characteristics'])])\n",
    "    df.drop(['title', 'short_description', 'name_value_characteristics'], axis=1, inplace=True)\n",
    "    df.Document = df.Document.astype('string')\n",
    "    df.Document = df.Document.apply(lambda x: ' '.join(simple_preprocess(x)))\n",
    "    return df\n",
    "\n",
    "def get_fasttext_multilabels(cat_tree: object, category_id: int) -> str:\n",
    "    node_list = []\n",
    "    for node in cat_tree.get_id_path(category_id):\n",
    "        node_list.append(''.join(['__label__', str(node)]))\n",
    "    return ' '.join(node_list)\n",
    "    "
   ]
  },
  {
   "cell_type": "markdown",
   "id": "81f8b0ee",
   "metadata": {},
   "source": [
    "Подготавливаем полный, тренировочный и валидационный датасеты:\n",
    "перемешиваем данные в фрейме,\n",
    "удаляем колонки рейтинга и кол-ва отзывов,\n",
    "корректируем типы данных колонок,\n",
    "заполняем пропущенные значения,\n",
    "текст из колонок 'title', 'short_description' и 'name_value_characteristics' объединяем в колонку \"Document\", добавляем первые слова из колонки 'title', чтобы увеличить их вес (самые важные слова - в начале описания)."
   ]
  },
  {
   "cell_type": "code",
   "execution_count": 3,
   "id": "c5b13bf6",
   "metadata": {},
   "outputs": [],
   "source": [
    "full_train_data = pd.read_parquet('train.parquet')\n",
    "\n",
    "data_full = full_train_data.sample(frac=1, random_state=1).copy()\n",
    "data_full.drop(['rating', 'feedback_quantity'], axis=1, inplace=True)\n",
    "data_full.title = data_full.title.astype('string')\n",
    "data_full.short_description = data_full.short_description.astype('string')\n",
    "data_full.fillna(value='', inplace=True)\n",
    "data_full.name_value_characteristics = data_full.name_value_characteristics.astype('string')\n",
    "data_full = data_full.assign(Document=[str(x) + ' ' + str(y) + ' ' + str(z) + ' ' + word_pyramid(x, 2, 3) for x, y, z in zip(data_full['title'], data_full['short_description'], data_full['name_value_characteristics'])])\n",
    "data_full.drop(['title', 'short_description', 'name_value_characteristics'], axis=1, inplace=True)\n",
    "data_full.Document = data_full.Document.astype('string')\n",
    "\n",
    "data = data_full[:-4000].reset_index(drop=True)\n",
    "data_valid = data_full[-4000:].reset_index(drop=True)\n"
   ]
  },
  {
   "cell_type": "markdown",
   "id": "171d1a7a",
   "metadata": {},
   "source": [
    "Строим дерево каталога"
   ]
  },
  {
   "cell_type": "code",
   "execution_count": 4,
   "id": "4eae83ed",
   "metadata": {},
   "outputs": [],
   "source": [
    "cat_tree_df = pd.read_csv('categories_tree.csv', index_col=0)"
   ]
  },
  {
   "cell_type": "code",
   "execution_count": 5,
   "id": "1da990ff",
   "metadata": {},
   "outputs": [],
   "source": [
    "cat_tree = CategoryTree()\n",
    "cat_tree.add_nodes_from_df(cat_tree_df, parent_id_col='parent_id', title_col='title')\n",
    "cat_tree.add_goods_from_df(data_full, category_id_col='category_id', good_id_col='id')"
   ]
  },
  {
   "cell_type": "code",
   "execution_count": 6,
   "id": "0a736ac1",
   "metadata": {},
   "outputs": [],
   "source": [
    "classifier = Classifier()"
   ]
  },
  {
   "cell_type": "markdown",
   "id": "0652c45c",
   "metadata": {},
   "source": [
    "Преобразуем данные в формат, принимаемый FastText."
   ]
  },
  {
   "cell_type": "code",
   "execution_count": 7,
   "id": "f5589f32",
   "metadata": {},
   "outputs": [],
   "source": [
    "data.Document = data.Document.apply(lambda x: ' '.join(simple_preprocess(x)))\n",
    "data_valid.Document = data_valid.Document.apply(lambda x: ' '.join(simple_preprocess(x)))\n",
    "\n",
    "data.category_id = data.category_id.apply(lambda x: get_fasttext_multilabels(cat_tree, x))\n",
    "data_valid.category_id = data_valid.category_id.apply(lambda x: get_fasttext_multilabels(cat_tree, x))"
   ]
  },
  {
   "cell_type": "code",
   "execution_count": 8,
   "id": "bc69e9fe",
   "metadata": {},
   "outputs": [
    {
     "data": {
      "text/plain": [
       "id                                                        304936\n",
       "category_id    __label__12917 __label__11328 __label__10091 _...\n",
       "Document       силиконовый дорожный контейнер футляр чехол дл...\n",
       "Name: 1, dtype: object"
      ]
     },
     "execution_count": 8,
     "metadata": {},
     "output_type": "execute_result"
    }
   ],
   "source": [
    "data.iloc[1]"
   ]
  },
  {
   "cell_type": "markdown",
   "id": "586e01ef",
   "metadata": {},
   "source": [
    "FastText принимает данные в виде текстовых файлов, поэтому сохраняем данные на диск."
   ]
  },
  {
   "cell_type": "code",
   "execution_count": 9,
   "id": "67a609f5",
   "metadata": {},
   "outputs": [],
   "source": [
    "# Saving the CSV file as a text file to train/test the classifier\n",
    "data[['Document', 'category_id']].to_csv('train_fasttext.txt', \n",
    "                                          index = False, \n",
    "                                          sep = ' ',\n",
    "                                          header = None, \n",
    "                                          quoting = csv.QUOTE_NONE, \n",
    "                                          quotechar = \"\", \n",
    "                                          escapechar = \" \")\n",
    "\n",
    "data_valid[['Document', 'category_id']].to_csv('test_fasttext.txt', \n",
    "                                               index = False, \n",
    "                                               sep = ' ',\n",
    "                                               header = None, \n",
    "                                               quoting = csv.QUOTE_NONE, \n",
    "                                               quotechar = \"\", \n",
    "                                               escapechar = \" \")\n"
   ]
  },
  {
   "cell_type": "markdown",
   "id": "be9f3994",
   "metadata": {},
   "source": [
    "Обучаем модель."
   ]
  },
  {
   "cell_type": "code",
   "execution_count": 18,
   "id": "e843673b",
   "metadata": {},
   "outputs": [
    {
     "name": "stderr",
     "output_type": "stream",
     "text": [
      "Read 5M words\n",
      "Number of words:  87455\n",
      "Number of labels: 1475\n",
      "Progress: 100.0% words/sec/thread:   46260 lr:  0.000000 avg.loss:  1.083445 ETA:   0h 0m 0s 11.7% words/sec/thread:   62115 lr:  0.264964 avg.loss:  4.354555 ETA:   0h 8m11s 12.8% words/sec/thread:   62236 lr:  0.261665 avg.loss:  4.147582 ETA:   0h 8m 4s 3.530655 ETA:   0h 7m39s words/sec/thread:   53332 lr:  0.174868 avg.loss:  2.027093 ETA:   0h 6m17s ETA:   0h 2m 3s 96.2% words/sec/thread:   46170 lr:  0.011430 avg.loss:  1.118221 ETA:   0h 0m28s\n"
     ]
    }
   ],
   "source": [
    "# Training the fastText classifier\n",
    "model = fasttext.train_supervised('train_fasttext.txt',\n",
    "                                  lr=0.3,                \n",
    "                                  dim=45,               \n",
    "                                  ws=5, \n",
    "                                  loss='ova',                                  \n",
    "                                  epoch=30,             \n",
    "                                  neg=500,               \n",
    "                                  wordNgrams=3)\n",
    "classifier.fasttext = model"
   ]
  },
  {
   "cell_type": "markdown",
   "id": "0a1d957e",
   "metadata": {},
   "source": [
    "При необходимости, сохраняем или загружаем модель."
   ]
  },
  {
   "cell_type": "code",
   "execution_count": 19,
   "id": "45a17a29",
   "metadata": {},
   "outputs": [],
   "source": [
    "# Save the trained model\n",
    "path = os.path.join(Path(\".\").parent, 'FastText_baseline', )\n",
    "model.save_model('fasttext_multilabel_model')"
   ]
  },
  {
   "cell_type": "code",
   "execution_count": 20,
   "id": "e5c86b81",
   "metadata": {
    "scrolled": true
   },
   "outputs": [
    {
     "name": "stderr",
     "output_type": "stream",
     "text": [
      "Warning : `load_model` does not return WordVectorModel or SupervisedModel any more, but a `FastText` object which is very similar.\n"
     ]
    }
   ],
   "source": [
    "# Load the trained model\n",
    "classifier.fasttext = fasttext.load_model('fasttext_multilabel_model')"
   ]
  },
  {
   "cell_type": "markdown",
   "id": "d528bb3a",
   "metadata": {},
   "source": [
    "Проверяем качество классификации на трейне:"
   ]
  },
  {
   "cell_type": "code",
   "execution_count": 21,
   "id": "fe9015a7",
   "metadata": {},
   "outputs": [],
   "source": [
    "# Evaluating performance on the entire train file\n",
    "_, precision, recall = classifier.fasttext.test('train_fasttext.txt') \n",
    "leaf_F1 = (2*precision*recall) / (precision+recall)"
   ]
  },
  {
   "cell_type": "code",
   "execution_count": 22,
   "id": "5640ce10",
   "metadata": {},
   "outputs": [
    {
     "name": "stdout",
     "output_type": "stream",
     "text": [
      "Train Leaf_F1=0.4094\n"
     ]
    }
   ],
   "source": [
    "print(f'Train Leaf_F1={leaf_F1:.4f}') "
   ]
  },
  {
   "cell_type": "markdown",
   "id": "9eace4a2",
   "metadata": {},
   "source": [
    "Проверяем качество классификации на тестовой выборке:"
   ]
  },
  {
   "cell_type": "code",
   "execution_count": 23,
   "id": "383469b1",
   "metadata": {},
   "outputs": [],
   "source": [
    "# Evaluating performance on the entire test file\n",
    "_, precision, recall = classifier.fasttext.test('test_fasttext.txt')                      \n",
    "leaf_F1 = (2*precision*recall) / (precision+recall)"
   ]
  },
  {
   "cell_type": "code",
   "execution_count": 24,
   "id": "6571fbea",
   "metadata": {},
   "outputs": [
    {
     "name": "stdout",
     "output_type": "stream",
     "text": [
      "Test Leaf_F1=0.4000\n"
     ]
    }
   ],
   "source": [
    "print(f'Test Leaf_F1={leaf_F1:.4f}') "
   ]
  },
  {
   "cell_type": "code",
   "execution_count": null,
   "id": "ddb1d39b",
   "metadata": {},
   "outputs": [],
   "source": []
  },
  {
   "cell_type": "code",
   "execution_count": null,
   "id": "4f461032",
   "metadata": {},
   "outputs": [],
   "source": []
  }
 ],
 "metadata": {
  "kernelspec": {
   "display_name": "Python 3 (ipykernel)",
   "language": "python",
   "name": "python3"
  },
  "language_info": {
   "codemirror_mode": {
    "name": "ipython",
    "version": 3
   },
   "file_extension": ".py",
   "mimetype": "text/x-python",
   "name": "python",
   "nbconvert_exporter": "python",
   "pygments_lexer": "ipython3",
   "version": "3.8.13"
  }
 },
 "nbformat": 4,
 "nbformat_minor": 5
}
