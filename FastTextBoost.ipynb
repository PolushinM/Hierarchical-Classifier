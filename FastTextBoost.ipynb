{
 "cells": [
  {
   "cell_type": "markdown",
   "id": "bad813cc",
   "metadata": {},
   "source": [
    "#### Алгоритм \"бустинга\": берём товары, на которых ошибается или неверно предсказывает FastText, обучаем на них иерархический классификатор, а дальше - пытаемся состыковать два алгоритма так, чтобы там, где FastText предсказывает неуверенно, бралось предсказание иерархического классификатора."
   ]
  },
  {
   "cell_type": "code",
   "execution_count": 100,
   "id": "6e42c57a",
   "metadata": {},
   "outputs": [],
   "source": [
    "import os\n",
    "from pathlib import Path\n",
    "import tqdm\n",
    "import fasttext\n",
    "import numpy as np \n",
    "import pandas as pd\n",
    "import csv\n",
    "from gensim.utils import simple_preprocess\n",
    "\n",
    "from HierarchicalLibrary import Classifier, CategoryTree, TextProcessor\n",
    "from HierarchicalLibrary.Encoders import LdaEncoder, NavecEncoder, FasttextEncoder, BertEncoder"
   ]
  },
  {
   "cell_type": "markdown",
   "id": "81f8b0ee",
   "metadata": {},
   "source": [
    "Подготавливаем полный, тренировочный и валидационный датасеты:\n",
    "перемешиваем данные в фрейме,\n",
    "удаляем колонки рейтинга и кол-ва отзывов,\n",
    "корректируем типы данных колонок,\n",
    "заполняем пропущенные значения,\n",
    "текст из колонок 'title', 'short_description' и 'name_value_characteristics' объединяем в колонку \"Document\", колонку 'title' берём дважды, чтобы увеличить её вес."
   ]
  },
  {
   "cell_type": "code",
   "execution_count": 6,
   "id": "293d24ea",
   "metadata": {},
   "outputs": [],
   "source": [
    "SEED = 1\n",
    "\n",
    "# Method for increasing the weight of the first words of title\n",
    "def word_pyramid(string: str, min_n_words: int, max_n_words: int) -> list:\n",
    "    result = []\n",
    "    split = string.split(' ')\n",
    "    for i in range(min_n_words, max_n_words+1):\n",
    "        result += split[:i]\n",
    "    return ' '.join(result)\n",
    "\n",
    "def prepare_data(full_train_data: pd.DataFrame, seed: int, valid_size: int):\n",
    "    data_full = full_train_data.sample(frac=1, random_state=seed).copy()\n",
    "    data_full.drop(['rating', 'feedback_quantity'], axis=1, inplace=True)\n",
    "    data_full.title = data_full.title.astype('string')\n",
    "    data_full.short_description = data_full.short_description.astype('string')\n",
    "    data_full.fillna(value='', inplace=True)\n",
    "    data_full.name_value_characteristics = data_full.name_value_characteristics.astype('string')\n",
    "    data_full = data_full.assign(Document=[str(x) + ' ' + str(y) + ' ' + str(z) + ' ' + word_pyramid(x, 2, 3) for x, y, z in zip(data_full['title'], data_full['short_description'], data_full['name_value_characteristics'])])\n",
    "    data_full.drop(['title', 'short_description', 'name_value_characteristics'], axis=1, inplace=True)\n",
    "    data_full.Document = data_full.Document.astype('string')\n",
    "\n",
    "    data = data_full[:-valid_size].reset_index(drop=True)\n",
    "    data_valid = data_full[-valid_size:].reset_index(drop=True)\n",
    "    return data, data_valid\n",
    "\n",
    "def set_seeds(seed: int):  \n",
    "    np.random.seed(seed)\n",
    "\n",
    "def predict_proba(documents: list) -> tuple:\n",
    "    prediction = model.predict(documents, k=1)\n",
    "    labels_result = []\n",
    "    proba_result = []\n",
    "    for label in prediction[0]:\n",
    "        labels_result.append(int(label[0][9:]))\n",
    "    return np.array(labels_result), np.array(prediction[1])[:, 0]\n",
    "\n",
    "def predict(document):\n",
    "    return int(model.predict(document)[0][0][9:])"
   ]
  },
  {
   "cell_type": "code",
   "execution_count": 7,
   "id": "c5b13bf6",
   "metadata": {},
   "outputs": [],
   "source": [
    "full_train_data = pd.read_parquet('train.parquet')\n",
    "\n",
    "set_seeds(SEED)\n",
    "data, data_valid = prepare_data(full_train_data, seed=SEED, valid_size=4000)"
   ]
  },
  {
   "cell_type": "markdown",
   "id": "0652c45c",
   "metadata": {},
   "source": [
    "Преобразуем данные в формат, принимаемый FastText."
   ]
  },
  {
   "cell_type": "code",
   "execution_count": 8,
   "id": "f5589f32",
   "metadata": {},
   "outputs": [],
   "source": [
    "data.Document = data.Document.apply(lambda x: ' '.join(simple_preprocess(x)))\n",
    "data_valid.Document = data_valid.Document.apply(lambda x: ' '.join(simple_preprocess(x)))\n",
    "\n",
    "data.category_id = data.category_id.apply(lambda x: '__label__' + str(x))\n",
    "data_valid.category_id = data_valid.category_id.apply(lambda x: '__label__' + str(x))"
   ]
  },
  {
   "cell_type": "markdown",
   "id": "586e01ef",
   "metadata": {},
   "source": [
    "FastText принимает данные в виде текстовых файлов, поэтому сохраняем данные на диск."
   ]
  },
  {
   "cell_type": "code",
   "execution_count": 103,
   "id": "67a609f5",
   "metadata": {},
   "outputs": [],
   "source": [
    "# Saving the CSV file as a text file to train/test the classifier\n",
    "\n",
    "path_train = os.path.join(Path(\".\").parent, 'FastTextBoost', 'train_fasttext.txt')\n",
    "data[['Document', 'category_id']].to_csv(path_train, \n",
    "                                          index = False, \n",
    "                                          sep = ' ',\n",
    "                                          header = None, \n",
    "                                          quoting = csv.QUOTE_NONE, \n",
    "                                          quotechar = \"\", \n",
    "                                          escapechar = \" \")\n",
    "\n",
    "path_test = os.path.join(Path(\".\").parent, 'FastTextBoost', 'test_fasttext.txt')\n",
    "data_valid[['Document', 'category_id']].to_csv(path_test, \n",
    "                                               index = False, \n",
    "                                               sep = ' ',\n",
    "                                               header = None, \n",
    "                                               quoting = csv.QUOTE_NONE, \n",
    "                                               quotechar = \"\", \n",
    "                                               escapechar = \" \")\n"
   ]
  },
  {
   "cell_type": "markdown",
   "id": "be9f3994",
   "metadata": {},
   "source": [
    "Обучаем модель."
   ]
  },
  {
   "cell_type": "code",
   "execution_count": 98,
   "id": "e843673b",
   "metadata": {},
   "outputs": [
    {
     "name": "stderr",
     "output_type": "stream",
     "text": [
      "Read 4M words\n",
      "Number of words:  87455\n",
      "Number of labels: 1231\n",
      "Progress: 100.0% words/sec/thread:   53616 lr:  0.000000 avg.loss:  0.461916 ETA:   0h 0m 0s  0.4% words/sec/thread:   52548 lr:  0.497938 avg.loss:  9.178720 ETA:   0h12m30s 0.454719 avg.loss:  1.635319 ETA:   0h11m13s 11.7% words/sec/thread:   53622 lr:  0.441376 avg.loss:  1.424610 ETA:   0h10m52s 12.5% words/sec/thread:   53678 lr:  0.437577 avg.loss:  1.377536 ETA:   0h10m46s10m30s  53546 lr:  0.377913 avg.loss:  0.965925 ETA:   0h 9m19s lr:  0.372407 avg.loss:  0.944517 ETA:   0h 9m10s  0h 9m 8s 31.6% words/sec/thread:   53701 lr:  0.342002 avg.loss:  0.846909 ETA:   0h 8m24s 32.1% words/sec/thread:   53711 lr:  0.339323 avg.loss:  0.839646 ETA:   0h 8m20s  53800 lr:  0.330121 avg.loss:  0.816017 ETA:   0h 8m 6s 38.0% words/sec/thread:   53807 lr:  0.309783 avg.loss:  0.770510 ETA:   0h 7m36sm35s 52.1% words/sec/thread:   53897 lr:  0.239713 avg.loss:  0.655485 ETA:   0h 5m52s 0.186738 avg.loss:  0.594511 ETA:   0h 4m34s 0.174068 avg.loss:  0.582306 ETA:   0h 4m15s 0.173933 avg.loss:  0.582183 ETA:   0h 4m15s avg.loss:  0.575148 ETA:   0h 4m 4s 0.155916 avg.loss:  0.565784 ETA:   0h 3m49s lr:  0.124941 avg.loss:  0.540460 ETA:   0h 3m 3s 0.523702 ETA:   0h 2m30s 82.5% words/sec/thread:   53854 lr:  0.087510 avg.loss:  0.513469 ETA:   0h 2m 8s  53749 lr:  0.065911 avg.loss:  0.499342 ETA:   0h 1m37s  0h 0m53s 93.7% words/sec/thread:   53639 lr:  0.031438 avg.loss:  0.478766 ETA:   0h 0m46s\n"
     ]
    }
   ],
   "source": [
    "# Training the fastText classifier\n",
    "model = fasttext.train_supervised(path_train,\n",
    "                                  lr=0.5,                # learning rate [0.1]\n",
    "                                  dim=48,               # size of word vectors [100]\n",
    "                                  ws=5,                # size of the context window [5]\n",
    "                                  epoch=40,             # number of epochs [5]\n",
    "                                  neg=250,   \n",
    "                                  minn=2,\n",
    "                                  maxn=6,\n",
    "                                  wordNgrams=0) "
   ]
  },
  {
   "cell_type": "markdown",
   "id": "9eace4a2",
   "metadata": {},
   "source": [
    "Проверяем качество классификации:"
   ]
  },
  {
   "cell_type": "code",
   "execution_count": 99,
   "id": "383469b1",
   "metadata": {},
   "outputs": [],
   "source": [
    "# Evaluating performance on the entire test file\n",
    "_, precision, recall = model.test(path_test)                      \n",
    "leaf_F1 = (2*precision*recall) / (precision+recall)"
   ]
  },
  {
   "cell_type": "code",
   "execution_count": 101,
   "id": "6571fbea",
   "metadata": {},
   "outputs": [
    {
     "name": "stdout",
     "output_type": "stream",
     "text": [
      "Leaf F1=0.8410\n"
     ]
    }
   ],
   "source": [
    "print(f'Leaf F1={leaf_F1:.4f}') #0.8640"
   ]
  },
  {
   "cell_type": "code",
   "execution_count": 104,
   "id": "fe9015a7",
   "metadata": {},
   "outputs": [],
   "source": [
    "# Evaluating performance on the entire train file\n",
    "_, precision, recall = model.test(path_train) \n",
    "leaf_F1 = (2*precision*recall) / (precision+recall)"
   ]
  },
  {
   "cell_type": "code",
   "execution_count": 97,
   "id": "5640ce10",
   "metadata": {},
   "outputs": [
    {
     "name": "stdout",
     "output_type": "stream",
     "text": [
      "Leaf F1=0.9339\n"
     ]
    }
   ],
   "source": [
    "print(f'Leaf F1={leaf_F1:.4f}') #0.9682"
   ]
  },
  {
   "cell_type": "code",
   "execution_count": 11,
   "id": "183c4325",
   "metadata": {},
   "outputs": [],
   "source": []
  },
  {
   "cell_type": "markdown",
   "id": "a67e566c",
   "metadata": {},
   "source": [
    "Для того чтобы проверить качество иерархической классификации, инициализируем и заполняем класс дерева категорий."
   ]
  },
  {
   "cell_type": "code",
   "execution_count": 105,
   "id": "4eae83ed",
   "metadata": {},
   "outputs": [],
   "source": [
    "cat_tree_df = pd.read_csv('categories_tree.csv', index_col=0)"
   ]
  },
  {
   "cell_type": "code",
   "execution_count": 106,
   "id": "1da990ff",
   "metadata": {},
   "outputs": [],
   "source": [
    "cat_tree = CategoryTree()\n",
    "cat_tree.add_nodes_from_df(cat_tree_df, parent_id_col='parent_id', title_col='title')\n",
    "cat_tree.add_goods_from_df(full_train_data, category_id_col='category_id', good_id_col='id')"
   ]
  },
  {
   "cell_type": "markdown",
   "id": "f5aaa9a2",
   "metadata": {},
   "source": [
    "Предсказываем категории в тестовом сете."
   ]
  },
  {
   "cell_type": "code",
   "execution_count": 107,
   "id": "0ae34502",
   "metadata": {},
   "outputs": [],
   "source": [
    "data_valid_test = data_valid.copy()\n",
    "data_valid_test.category_id = data_valid_test.category_id.apply(lambda text: text[9:]).astype('int')\n",
    "data_valid_test['predicted_id'] = data_valid_test.Document.astype('string')\n",
    "data_valid_test.predicted_id = data_valid_test.predicted_id.apply(lambda text: predict(text)).astype('int')"
   ]
  },
  {
   "cell_type": "markdown",
   "id": "8d679ea0",
   "metadata": {},
   "source": [
    "Подготавливаем данные для расчета иерархической метрики."
   ]
  },
  {
   "cell_type": "code",
   "execution_count": 108,
   "id": "0c54617d",
   "metadata": {},
   "outputs": [],
   "source": [
    "test_target = data_valid_test.category_id.tolist()\n",
    "pred_leafs = data_valid_test.predicted_id.tolist()"
   ]
  },
  {
   "cell_type": "markdown",
   "id": "804436cc",
   "metadata": {},
   "source": [
    "Расчет иерархической F1-меры. "
   ]
  },
  {
   "cell_type": "code",
   "execution_count": 109,
   "id": "c3f5beef",
   "metadata": {},
   "outputs": [
    {
     "name": "stdout",
     "output_type": "stream",
     "text": [
      "hF1=0.9029\n",
      "hF1_01=0.9359\n"
     ]
    }
   ],
   "source": [
    "print(f'hF1={cat_tree.hF1_score(test_target, pred_leafs):.4f}') #0.9187\n",
    "print(f'hF1_01={cat_tree.hF1_score_01(test_target, pred_leafs):.4f}') #0.9463"
   ]
  },
  {
   "cell_type": "markdown",
   "id": "b7e1188f",
   "metadata": {},
   "source": [
    "Теперь то же самое для train датасета."
   ]
  },
  {
   "cell_type": "code",
   "execution_count": 110,
   "id": "fd42e5f5",
   "metadata": {},
   "outputs": [
    {
     "name": "stdout",
     "output_type": "stream",
     "text": [
      "hF1=0.9685\n",
      "hF1_01=0.9792\n"
     ]
    }
   ],
   "source": [
    "data_test = data[:10000].copy()\n",
    "data_test.category_id = data_test.category_id.apply(lambda text: text[9:]).astype('int')\n",
    "data_test['predicted_id'] = data_test.Document.astype('string')\n",
    "data_test.predicted_id = data_test.predicted_id.apply(lambda text: predict(text)).astype('int')\n",
    "\n",
    "test_target = data_test.category_id.tolist()\n",
    "pred_leafs = data_test.predicted_id.tolist()\n",
    "\n",
    "print(f'hF1={cat_tree.hF1_score(test_target, pred_leafs):.4f}') #0.9187\n",
    "print(f'hF1_01={cat_tree.hF1_score_01(test_target, pred_leafs):.4f}') #0.9463"
   ]
  },
  {
   "cell_type": "code",
   "execution_count": null,
   "id": "a5878a8a",
   "metadata": {},
   "outputs": [],
   "source": []
  },
  {
   "cell_type": "code",
   "execution_count": null,
   "id": "397b3f4d",
   "metadata": {},
   "outputs": [],
   "source": []
  },
  {
   "cell_type": "code",
   "execution_count": null,
   "id": "15927a61",
   "metadata": {},
   "outputs": [],
   "source": []
  },
  {
   "cell_type": "code",
   "execution_count": null,
   "id": "2e340c53",
   "metadata": {},
   "outputs": [],
   "source": []
  },
  {
   "cell_type": "markdown",
   "id": "4dfffe73",
   "metadata": {},
   "source": [
    "### Предсказание ошибок для бустинга"
   ]
  },
  {
   "cell_type": "code",
   "execution_count": 124,
   "id": "d89e7a65",
   "metadata": {},
   "outputs": [],
   "source": [
    "boost_data = data.copy()\n",
    "boost_data.category_id = boost_data.category_id.apply(lambda text: text[9:]).astype('int')\n",
    "documents = boost_data.Document.tolist()\n",
    "#boost_data.Document = data_full[:-4000].reset_index(drop=True).Document\n",
    "pred_ids, pred_probas = predict_proba(documents)\n",
    "boost_data['fastt_leaf'] = pred_ids\n",
    "boost_data['fastt_proba'] = pred_probas"
   ]
  },
  {
   "cell_type": "code",
   "execution_count": 125,
   "id": "efd4acd6",
   "metadata": {},
   "outputs": [],
   "source": [
    "boost_data = boost_data[(boost_data.category_id!=boost_data.fastt_leaf) | (boost_data.fastt_proba<0.9)]"
   ]
  },
  {
   "cell_type": "code",
   "execution_count": 126,
   "id": "b8636a1d",
   "metadata": {},
   "outputs": [],
   "source": [
    "boost_data.Document = boost_data.Document.apply(lambda x: ' '.join(simple_preprocess(x)))"
   ]
  },
  {
   "cell_type": "code",
   "execution_count": 127,
   "id": "4bc60f45",
   "metadata": {},
   "outputs": [
    {
     "data": {
      "text/html": [
       "<div>\n",
       "<style scoped>\n",
       "    .dataframe tbody tr th:only-of-type {\n",
       "        vertical-align: middle;\n",
       "    }\n",
       "\n",
       "    .dataframe tbody tr th {\n",
       "        vertical-align: top;\n",
       "    }\n",
       "\n",
       "    .dataframe thead th {\n",
       "        text-align: right;\n",
       "    }\n",
       "</style>\n",
       "<table border=\"1\" class=\"dataframe\">\n",
       "  <thead>\n",
       "    <tr style=\"text-align: right;\">\n",
       "      <th></th>\n",
       "      <th>id</th>\n",
       "      <th>category_id</th>\n",
       "      <th>Document</th>\n",
       "      <th>fastt_leaf</th>\n",
       "      <th>fastt_proba</th>\n",
       "    </tr>\n",
       "  </thead>\n",
       "  <tbody>\n",
       "    <tr>\n",
       "      <th>1</th>\n",
       "      <td>304936</td>\n",
       "      <td>12917</td>\n",
       "      <td>силиконовый дорожный контейнер футляр чехол дл...</td>\n",
       "      <td>13201</td>\n",
       "      <td>0.330415</td>\n",
       "    </tr>\n",
       "    <tr>\n",
       "      <th>5</th>\n",
       "      <td>708294</td>\n",
       "      <td>13982</td>\n",
       "      <td>топ женский открытым декольте базовый топ женс...</td>\n",
       "      <td>13982</td>\n",
       "      <td>0.722982</td>\n",
       "    </tr>\n",
       "    <tr>\n",
       "      <th>9</th>\n",
       "      <td>1429067</td>\n",
       "      <td>13451</td>\n",
       "      <td>подарочный набор из предметов подарочный набор...</td>\n",
       "      <td>13451</td>\n",
       "      <td>0.612714</td>\n",
       "    </tr>\n",
       "    <tr>\n",
       "      <th>10</th>\n",
       "      <td>897670</td>\n",
       "      <td>13302</td>\n",
       "      <td>подарочный набор на марта для приготовления бь...</td>\n",
       "      <td>13302</td>\n",
       "      <td>0.452063</td>\n",
       "    </tr>\n",
       "    <tr>\n",
       "      <th>11</th>\n",
       "      <td>539414</td>\n",
       "      <td>13171</td>\n",
       "      <td>брюки мужские трикотажные брюки прямого кроя и...</td>\n",
       "      <td>13171</td>\n",
       "      <td>0.884519</td>\n",
       "    </tr>\n",
       "    <tr>\n",
       "      <th>...</th>\n",
       "      <td>...</td>\n",
       "      <td>...</td>\n",
       "      <td>...</td>\n",
       "      <td>...</td>\n",
       "      <td>...</td>\n",
       "    </tr>\n",
       "    <tr>\n",
       "      <th>279434</th>\n",
       "      <td>1187927</td>\n",
       "      <td>11745</td>\n",
       "      <td>комплект бижутерии для девочек ожерелье колечк...</td>\n",
       "      <td>11745</td>\n",
       "      <td>0.768189</td>\n",
       "    </tr>\n",
       "    <tr>\n",
       "      <th>279441</th>\n",
       "      <td>818112</td>\n",
       "      <td>12078</td>\n",
       "      <td>резинка пружинка для волос шт резинка пружинка...</td>\n",
       "      <td>12078</td>\n",
       "      <td>0.674274</td>\n",
       "    </tr>\n",
       "    <tr>\n",
       "      <th>279445</th>\n",
       "      <td>381587</td>\n",
       "      <td>12523</td>\n",
       "      <td>рубашка коротким рукавом мужская прямая отличн...</td>\n",
       "      <td>12523</td>\n",
       "      <td>0.821654</td>\n",
       "    </tr>\n",
       "    <tr>\n",
       "      <th>279448</th>\n",
       "      <td>1002594</td>\n",
       "      <td>12476</td>\n",
       "      <td>цепочка на шею см красивые легкие очень удобны...</td>\n",
       "      <td>12476</td>\n",
       "      <td>0.411630</td>\n",
       "    </tr>\n",
       "    <tr>\n",
       "      <th>279449</th>\n",
       "      <td>988538</td>\n",
       "      <td>12302</td>\n",
       "      <td>обложка на паспорт кожаная кожаная обложка на ...</td>\n",
       "      <td>12302</td>\n",
       "      <td>0.522156</td>\n",
       "    </tr>\n",
       "  </tbody>\n",
       "</table>\n",
       "<p>75280 rows × 5 columns</p>\n",
       "</div>"
      ],
      "text/plain": [
       "             id  category_id  \\\n",
       "1        304936        12917   \n",
       "5        708294        13982   \n",
       "9       1429067        13451   \n",
       "10       897670        13302   \n",
       "11       539414        13171   \n",
       "...         ...          ...   \n",
       "279434  1187927        11745   \n",
       "279441   818112        12078   \n",
       "279445   381587        12523   \n",
       "279448  1002594        12476   \n",
       "279449   988538        12302   \n",
       "\n",
       "                                                 Document  fastt_leaf  \\\n",
       "1       силиконовый дорожный контейнер футляр чехол дл...       13201   \n",
       "5       топ женский открытым декольте базовый топ женс...       13982   \n",
       "9       подарочный набор из предметов подарочный набор...       13451   \n",
       "10      подарочный набор на марта для приготовления бь...       13302   \n",
       "11      брюки мужские трикотажные брюки прямого кроя и...       13171   \n",
       "...                                                   ...         ...   \n",
       "279434  комплект бижутерии для девочек ожерелье колечк...       11745   \n",
       "279441  резинка пружинка для волос шт резинка пружинка...       12078   \n",
       "279445  рубашка коротким рукавом мужская прямая отличн...       12523   \n",
       "279448  цепочка на шею см красивые легкие очень удобны...       12476   \n",
       "279449  обложка на паспорт кожаная кожаная обложка на ...       12302   \n",
       "\n",
       "        fastt_proba  \n",
       "1          0.330415  \n",
       "5          0.722982  \n",
       "9          0.612714  \n",
       "10         0.452063  \n",
       "11         0.884519  \n",
       "...             ...  \n",
       "279434     0.768189  \n",
       "279441     0.674274  \n",
       "279445     0.821654  \n",
       "279448     0.411630  \n",
       "279449     0.522156  \n",
       "\n",
       "[75280 rows x 5 columns]"
      ]
     },
     "execution_count": 127,
     "metadata": {},
     "output_type": "execute_result"
    }
   ],
   "source": [
    "boost_data"
   ]
  },
  {
   "cell_type": "code",
   "execution_count": null,
   "id": "490a6613",
   "metadata": {},
   "outputs": [],
   "source": []
  },
  {
   "cell_type": "code",
   "execution_count": null,
   "id": "eb517c71",
   "metadata": {},
   "outputs": [],
   "source": []
  },
  {
   "cell_type": "markdown",
   "id": "aafec78e",
   "metadata": {},
   "source": [
    "### Обучение иерархического классификатора"
   ]
  },
  {
   "cell_type": "code",
   "execution_count": 128,
   "id": "5d0280ba",
   "metadata": {},
   "outputs": [
    {
     "name": "stderr",
     "output_type": "stream",
     "text": [
      "Lemmatize: 100%|██████████| 75280/75280 [07:10<00:00, 174.83it/s]\n"
     ]
    }
   ],
   "source": [
    "text_processor = TextProcessor()\n",
    "text_processor.lemmatize_data(boost_data, document_col='Document', id_col='id')"
   ]
  },
  {
   "cell_type": "code",
   "execution_count": 129,
   "id": "ebe2de72",
   "metadata": {},
   "outputs": [],
   "source": [
    "text_processor.save_lemms_data('75280_boost_set_lemm', directory='FastTextBoost')"
   ]
  },
  {
   "cell_type": "code",
   "execution_count": 130,
   "id": "c17a6fc8",
   "metadata": {},
   "outputs": [],
   "source": [
    "text_processor.load_lemms_data('75280_boost_set_lemm', directory='FastTextBoost')"
   ]
  },
  {
   "cell_type": "code",
   "execution_count": 131,
   "id": "a85deb36",
   "metadata": {},
   "outputs": [],
   "source": [
    "lda_encoder = LdaEncoder()\n",
    "lda_encoder.load_model('full_set_model_128', directory='FastTextBoost')"
   ]
  },
  {
   "cell_type": "code",
   "execution_count": 140,
   "id": "c694095f",
   "metadata": {},
   "outputs": [],
   "source": [
    "nevec_encoder = NavecEncoder(alpha=0.2, dim=128)\n",
    "nevec_encoder.load_model('navec_hudlit_v1_12B_500K_300d_100q.tar', directory='FastTextBoost')\n",
    "nevec_encoder.load_pca('PCA_navec.pickle', directory='FastTextBoost')"
   ]
  },
  {
   "cell_type": "code",
   "execution_count": 141,
   "id": "5f5744fe",
   "metadata": {},
   "outputs": [
    {
     "data": {
      "text/plain": [
       "128"
      ]
     },
     "execution_count": 141,
     "metadata": {},
     "output_type": "execute_result"
    }
   ],
   "source": [
    "nevec_encoder.transform([['foo']]).shape[1]"
   ]
  },
  {
   "cell_type": "code",
   "execution_count": 160,
   "id": "cfdbe63e",
   "metadata": {},
   "outputs": [
    {
     "name": "stderr",
     "output_type": "stream",
     "text": [
      "Warning : `load_model` does not return WordVectorModel or SupervisedModel any more, but a `FastText` object which is very similar.\n"
     ]
    }
   ],
   "source": [
    "fasttext_encoder = FasttextEncoder()\n",
    "fasttext_encoder.load_model('fasttext_model_300_s', directory='FastTextBoost')"
   ]
  },
  {
   "cell_type": "code",
   "execution_count": 161,
   "id": "605741ef",
   "metadata": {},
   "outputs": [
    {
     "data": {
      "text/plain": [
       "300"
      ]
     },
     "execution_count": 161,
     "metadata": {},
     "output_type": "execute_result"
    }
   ],
   "source": [
    "fasttext_encoder.transform([['foo']]).shape[1]"
   ]
  },
  {
   "cell_type": "code",
   "execution_count": 162,
   "id": "83fac0e5",
   "metadata": {},
   "outputs": [],
   "source": [
    "encoders=[lda_encoder, nevec_encoder, fasttext_encoder]"
   ]
  },
  {
   "cell_type": "code",
   "execution_count": 163,
   "id": "bfb53164",
   "metadata": {},
   "outputs": [],
   "source": [
    "embeddings_dict = text_processor.make_embeddings_dict(encoders=encoders)"
   ]
  },
  {
   "cell_type": "code",
   "execution_count": 164,
   "id": "fc4490c4",
   "metadata": {},
   "outputs": [
    {
     "data": {
      "text/plain": [
       "(556,)"
      ]
     },
     "execution_count": 164,
     "metadata": {},
     "output_type": "execute_result"
    }
   ],
   "source": [
    "embeddings_dict[next(iter(embeddings_dict))].shape"
   ]
  },
  {
   "cell_type": "code",
   "execution_count": 165,
   "id": "0a3c24d6",
   "metadata": {},
   "outputs": [],
   "source": [
    "cat_tree = CategoryTree()\n",
    "cat_tree.add_nodes_from_df(cat_tree_df, parent_id_col='parent_id', title_col='title')\n",
    "cat_tree.add_goods_from_df(boost_data, category_id_col='category_id', good_id_col='id')"
   ]
  },
  {
   "cell_type": "code",
   "execution_count": 166,
   "id": "4642e576",
   "metadata": {},
   "outputs": [],
   "source": [
    "cat_tree.update_embeddings(embeddings_dict)\n",
    "cat_tree.mix_in_description_embs(lambda titles: text_processor.get_embeddings(titles, encoders=encoders), weight=25)"
   ]
  },
  {
   "cell_type": "code",
   "execution_count": 167,
   "id": "ca73acc8",
   "metadata": {},
   "outputs": [],
   "source": [
    "classifier = Classifier(tol=0.003, max_iter=3000)"
   ]
  },
  {
   "cell_type": "code",
   "execution_count": null,
   "id": "c085da24",
   "metadata": {},
   "outputs": [
    {
     "name": "stderr",
     "output_type": "stream",
     "text": [
      "  2%|▏         | 69/3370 [02:26<4:23:39,  4.79s/it]/home/maksim/anaconda3/envs/ARTMenv/lib/python3.8/site-packages/sklearn/linear_model/_sag.py:352: ConvergenceWarning: The max_iter was reached which means the coef_ did not converge\n",
      "  warnings.warn(\n",
      "  8%|▊         | 269/3370 [1:15:17<26:29:04, 30.75s/it]  /home/maksim/anaconda3/envs/ARTMenv/lib/python3.8/site-packages/sklearn/linear_model/_sag.py:352: ConvergenceWarning: The max_iter was reached which means the coef_ did not converge\n",
      "  warnings.warn(\n",
      " 11%|█         | 362/3370 [7:30:56<156:24:14, 187.19s/it]/home/maksim/anaconda3/envs/ARTMenv/lib/python3.8/site-packages/sklearn/linear_model/_sag.py:352: ConvergenceWarning: The max_iter was reached which means the coef_ did not converge\n",
      "  warnings.warn(\n",
      " 11%|█         | 369/3370 [8:15:36<242:17:17, 290.65s/it]/home/maksim/anaconda3/envs/ARTMenv/lib/python3.8/site-packages/sklearn/linear_model/_sag.py:352: ConvergenceWarning: The max_iter was reached which means the coef_ did not converge\n",
      "  warnings.warn(\n"
     ]
    }
   ],
   "source": [
    "cat_tree.fit_local_weights(classifier, embeddings_dict, C=0.05, reg_count_power=0.5)\n",
    "cat_tree.save_tree('75280_boost_set_tree.pickle', directory='FastTextBoost')"
   ]
  },
  {
   "cell_type": "code",
   "execution_count": null,
   "id": "53382e98",
   "metadata": {},
   "outputs": [],
   "source": [
    "begin_exampl = 0\n",
    "end_exampl = 4000\n",
    "valid_documents = data_valid.Document.tolist()[begin_exampl:end_exampl]\n",
    "valid_ids = data_valid.id.tolist()[begin_exampl:end_exampl]\n",
    "valid_target = data_valid.category_id.apply(lambda text: text[9:]).astype('int').tolist()[begin_exampl:end_exampl]\n",
    "embs_valid = encoder.get_embeddings(valid_documents, encoders=encoders)\n",
    "\n",
    "hier_leafs_valid = []\n",
    "hier_probas_valid = []\n",
    "for i in tqdm.tqdm(range(len(embs_valid)), total=len(embs_valid)):\n",
    "    leaf, proba = cat_tree.choose_leaf_proba(embs_valid[i], classifier)\n",
    "    hier_leafs_valid.append(leaf)\n",
    "    hier_probas_valid.append(proba)"
   ]
  },
  {
   "cell_type": "code",
   "execution_count": null,
   "id": "8456bdb8",
   "metadata": {},
   "outputs": [],
   "source": [
    "print(f'hF1={cat_tree.hF1_score(valid_target, hier_leafs_valid):.3f}') #0.721/0.71"
   ]
  },
  {
   "cell_type": "code",
   "execution_count": null,
   "id": "a8df1054",
   "metadata": {},
   "outputs": [],
   "source": [
    "hier_valid_data = data_valid.copy()\n",
    "hier_valid_data['hier_leaf'] = hier_leafs_valid\n",
    "hier_valid_data['hier_proba'] = hier_probas_valid"
   ]
  },
  {
   "cell_type": "code",
   "execution_count": null,
   "id": "8b5bbd58",
   "metadata": {},
   "outputs": [],
   "source": [
    "hier_valid_data.category_id = hier_valid_data.category_id.apply(lambda text: text[9:]).astype('int')"
   ]
  },
  {
   "cell_type": "code",
   "execution_count": null,
   "id": "27ad5852",
   "metadata": {},
   "outputs": [],
   "source": [
    "hier_path = os.path.join(Path(\".\").parent, 'FastTextBoost', 'hier_valid_data_for_stacking')\n",
    "hier_valid_data.to_csv(hier_path)"
   ]
  },
  {
   "cell_type": "code",
   "execution_count": null,
   "id": "f6c14c2f",
   "metadata": {},
   "outputs": [],
   "source": []
  },
  {
   "cell_type": "code",
   "execution_count": null,
   "id": "bbf42d00",
   "metadata": {},
   "outputs": [],
   "source": []
  },
  {
   "cell_type": "code",
   "execution_count": null,
   "id": "f1843af8",
   "metadata": {},
   "outputs": [],
   "source": []
  },
  {
   "cell_type": "markdown",
   "id": "7003a5c4",
   "metadata": {},
   "source": [
    "Снова обучаем FastText с гиперпараметрами, обеспечивающими лучшее обучение."
   ]
  },
  {
   "cell_type": "code",
   "execution_count": 124,
   "id": "20ac0f7c",
   "metadata": {},
   "outputs": [
    {
     "name": "stderr",
     "output_type": "stream",
     "text": [
      "Read 4M words\n",
      "Number of words:  87455\n",
      "Number of labels: 1231\n",
      "Progress: 100.0% words/sec/thread:   33411 lr:  0.000000 avg.loss:  0.332084 ETA:   0h 0m 0s 0.240870 avg.loss:  3.849155 ETA:   0h14m18s 2.704057 ETA:   0h13m49s 12.5% words/sec/thread:   33572 lr:  0.218804 avg.loss:  1.700464 ETA:   0h12m54s 1.507039 ETA:   0h12m33sm53ss 30.8% words/sec/thread:   33572 lr:  0.172961 avg.loss:  0.863627 ETA:   0h10m12s words/sec/thread:   33572 lr:  0.172565 avg.loss:  0.859984 ETA:   0h10m11s 0.826417 ETA:   0h 9m56s14s lr:  0.151209 avg.loss:  0.709268 ETA:   0h 8m55s 45.2% words/sec/thread:   33581 lr:  0.136944 avg.loss:  0.636838 ETA:   0h 8m 4s 50.8% words/sec/thread:   33584 lr:  0.123031 avg.loss:  0.579581 ETA:   0h 7m15s  33588 lr:  0.118965 avg.loss:  0.565370 ETA:   0h 7m 1sm18sh 6m11s lr:  0.098407 avg.loss:  0.502883 ETA:   0h 5m48s 0.071615 avg.loss:  0.440273 ETA:   0h 4m13s 77.7% words/sec/thread:   33533 lr:  0.055643 avg.loss:  0.410226 ETA:   0h 3m17s 79.2% words/sec/thread:   33530 lr:  0.051896 avg.loss:  0.403698 ETA:   0h 3m 3s 80.1% words/sec/thread:   33531 lr:  0.049801 avg.loss:  0.400089 ETA:   0h 2m56s 81.7% words/sec/thread:   33531 lr:  0.045681 avg.loss:  0.393404 ETA:   0h 2m41s 0.384893 ETA:   0h 2m22s% words/sec/thread:   33505 lr:  0.030913 avg.loss:  0.371198 ETA:   0h 1m49s 89.9% words/sec/thread:   33483 lr:  0.025230 avg.loss:  0.363258 ETA:   0h 1m29s 93.5% words/sec/thread:   33443 lr:  0.016238 avg.loss:  0.351356 ETA:   0h 0m57s  33443 lr:  0.016014 avg.loss:  0.351059 ETA:   0h 0m56s 95.5% words/sec/thread:   33427 lr:  0.011128 avg.loss:  0.345061 ETA:   0h 0m39s 97.4% words/sec/thread:   33421 lr:  0.006424 avg.loss:  0.339465 ETA:   0h 0m22s 99.5% words/sec/thread:   33412 lr:  0.001325 avg.loss:  0.333553 ETA:   0h 0m 4s\n"
     ]
    }
   ],
   "source": [
    "# Training the fastText classifier\n",
    "model = fasttext.train_supervised(path_train,\n",
    "                                  lr=0.25,                # learning rate [0.1]\n",
    "                                  dim=100,               # size of word vectors [100]\n",
    "                                  ws=4,                # size of the context window [5]\n",
    "                                  epoch=30,             # number of epochs [5]\n",
    "                                  neg=5,               # number of negatives sampled [5]\n",
    "                                  wordNgrams=3) "
   ]
  },
  {
   "cell_type": "code",
   "execution_count": 125,
   "id": "67b08838",
   "metadata": {},
   "outputs": [],
   "source": [
    "# Evaluating performance on the entire test file\n",
    "_, precision, recall = model.test(path_test)                      \n",
    "leaf_F1 = (2*precision*recall) / (precision+recall)"
   ]
  },
  {
   "cell_type": "code",
   "execution_count": 126,
   "id": "86c380d3",
   "metadata": {},
   "outputs": [
    {
     "name": "stdout",
     "output_type": "stream",
     "text": [
      "Leaf F1=0.8595\n"
     ]
    }
   ],
   "source": [
    "print(f'Test Leaf F1={leaf_F1:.4f}') #0.8640"
   ]
  },
  {
   "cell_type": "code",
   "execution_count": 162,
   "id": "1e9b122c",
   "metadata": {},
   "outputs": [
    {
     "name": "stdout",
     "output_type": "stream",
     "text": [
      "Train Leaf F1=0.9851\n"
     ]
    }
   ],
   "source": [
    "# Evaluating performance on the entire train file\n",
    "_, precision, recall = model.test(path_train) \n",
    "leaf_F1 = (2*precision*recall) / (precision+recall)\n",
    "print(f'Train Leaf F1={leaf_F1:.4f}') #0.9682"
   ]
  },
  {
   "cell_type": "code",
   "execution_count": 161,
   "id": "cab4076e",
   "metadata": {},
   "outputs": [
    {
     "name": "stdout",
     "output_type": "stream",
     "text": [
      "hF1=0.9154\n",
      "hF1_01=0.9441\n"
     ]
    }
   ],
   "source": [
    "data_valid_test = data_valid.copy()\n",
    "data_valid_test.category_id = data_valid_test.category_id.apply(lambda text: text[9:]).astype('int')\n",
    "data_valid_test['predicted_id'] = data_valid_test.Document.astype('string')\n",
    "data_valid_test.predicted_id = data_valid_test.predicted_id.apply(lambda text: predict(text)).astype('int')\n",
    "test_target = data_valid_test.category_id.tolist()\n",
    "pred_leafs = data_valid_test.predicted_id.tolist()\n",
    "print(f'hF1={cat_tree.hF1_score(test_target, pred_leafs):.4f}') \n",
    "print(f'hF1_01={cat_tree.hF1_score_01(test_target, pred_leafs):.4f}') "
   ]
  },
  {
   "cell_type": "code",
   "execution_count": null,
   "id": "ff379ba4",
   "metadata": {},
   "outputs": [],
   "source": []
  },
  {
   "cell_type": "code",
   "execution_count": null,
   "id": "f1cd16f9",
   "metadata": {},
   "outputs": [],
   "source": []
  },
  {
   "cell_type": "markdown",
   "id": "f868f975",
   "metadata": {},
   "source": [
    "### Стекинг двух алгоритмов"
   ]
  },
  {
   "cell_type": "code",
   "execution_count": 152,
   "id": "f4b30b12",
   "metadata": {},
   "outputs": [],
   "source": [
    "hyer_test_data = pd.read_csv(hier_path, index_col=0)"
   ]
  },
  {
   "cell_type": "code",
   "execution_count": 153,
   "id": "df1b8767",
   "metadata": {},
   "outputs": [
    {
     "data": {
      "text/html": [
       "<div>\n",
       "<style scoped>\n",
       "    .dataframe tbody tr th:only-of-type {\n",
       "        vertical-align: middle;\n",
       "    }\n",
       "\n",
       "    .dataframe tbody tr th {\n",
       "        vertical-align: top;\n",
       "    }\n",
       "\n",
       "    .dataframe thead th {\n",
       "        text-align: right;\n",
       "    }\n",
       "</style>\n",
       "<table border=\"1\" class=\"dataframe\">\n",
       "  <thead>\n",
       "    <tr style=\"text-align: right;\">\n",
       "      <th></th>\n",
       "      <th>id</th>\n",
       "      <th>category_id</th>\n",
       "      <th>Document</th>\n",
       "      <th>hier_leaf</th>\n",
       "      <th>hier_proba</th>\n",
       "    </tr>\n",
       "  </thead>\n",
       "  <tbody>\n",
       "    <tr>\n",
       "      <th>0</th>\n",
       "      <td>1262422</td>\n",
       "      <td>12456</td>\n",
       "      <td>сорочка цвета подарок на марта сорочка размер ...</td>\n",
       "      <td>13205</td>\n",
       "      <td>0.264725</td>\n",
       "    </tr>\n",
       "    <tr>\n",
       "      <th>1</th>\n",
       "      <td>526277</td>\n",
       "      <td>13061</td>\n",
       "      <td>серьги серьги серьги</td>\n",
       "      <td>14076</td>\n",
       "      <td>0.226782</td>\n",
       "    </tr>\n",
       "    <tr>\n",
       "      <th>2</th>\n",
       "      <td>113365</td>\n",
       "      <td>12980</td>\n",
       "      <td>беспроводные наушники sports headset bluetooth...</td>\n",
       "      <td>12980</td>\n",
       "      <td>0.551842</td>\n",
       "    </tr>\n",
       "    <tr>\n",
       "      <th>3</th>\n",
       "      <td>642934</td>\n",
       "      <td>11937</td>\n",
       "      <td>чехол накладка принтом iphone xs max xiaomi mi...</td>\n",
       "      <td>13408</td>\n",
       "      <td>0.569301</td>\n",
       "    </tr>\n",
       "    <tr>\n",
       "      <th>4</th>\n",
       "      <td>448921</td>\n",
       "      <td>13066</td>\n",
       "      <td>дисплеи micromax canvas fire дисплеи micromax ...</td>\n",
       "      <td>12422</td>\n",
       "      <td>0.012839</td>\n",
       "    </tr>\n",
       "    <tr>\n",
       "      <th>...</th>\n",
       "      <td>...</td>\n",
       "      <td>...</td>\n",
       "      <td>...</td>\n",
       "      <td>...</td>\n",
       "      <td>...</td>\n",
       "    </tr>\n",
       "    <tr>\n",
       "      <th>3995</th>\n",
       "      <td>982751</td>\n",
       "      <td>11567</td>\n",
       "      <td>цепь чокер женская цепь чокер женская цепь чок...</td>\n",
       "      <td>12476</td>\n",
       "      <td>0.316677</td>\n",
       "    </tr>\n",
       "    <tr>\n",
       "      <th>3996</th>\n",
       "      <td>747972</td>\n",
       "      <td>12751</td>\n",
       "      <td>школьный бант школьный бант школьный бант школ...</td>\n",
       "      <td>13260</td>\n",
       "      <td>0.029716</td>\n",
       "    </tr>\n",
       "    <tr>\n",
       "      <th>3997</th>\n",
       "      <td>832637</td>\n",
       "      <td>12454</td>\n",
       "      <td>наклейка для дизайна ногтей lucky rose тема ли...</td>\n",
       "      <td>12454</td>\n",
       "      <td>0.749909</td>\n",
       "    </tr>\n",
       "    <tr>\n",
       "      <th>3998</th>\n",
       "      <td>1378353</td>\n",
       "      <td>11745</td>\n",
       "      <td>ключик замочек ключик ключик замочек</td>\n",
       "      <td>12727</td>\n",
       "      <td>0.009855</td>\n",
       "    </tr>\n",
       "    <tr>\n",
       "      <th>3999</th>\n",
       "      <td>725937</td>\n",
       "      <td>13274</td>\n",
       "      <td>детская повязка на голову детская повязка детс...</td>\n",
       "      <td>12109</td>\n",
       "      <td>0.186898</td>\n",
       "    </tr>\n",
       "  </tbody>\n",
       "</table>\n",
       "<p>4000 rows × 5 columns</p>\n",
       "</div>"
      ],
      "text/plain": [
       "           id  category_id                                           Document  \\\n",
       "0     1262422        12456  сорочка цвета подарок на марта сорочка размер ...   \n",
       "1      526277        13061                               серьги серьги серьги   \n",
       "2      113365        12980  беспроводные наушники sports headset bluetooth...   \n",
       "3      642934        11937  чехол накладка принтом iphone xs max xiaomi mi...   \n",
       "4      448921        13066  дисплеи micromax canvas fire дисплеи micromax ...   \n",
       "...       ...          ...                                                ...   \n",
       "3995   982751        11567  цепь чокер женская цепь чокер женская цепь чок...   \n",
       "3996   747972        12751  школьный бант школьный бант школьный бант школ...   \n",
       "3997   832637        12454  наклейка для дизайна ногтей lucky rose тема ли...   \n",
       "3998  1378353        11745               ключик замочек ключик ключик замочек   \n",
       "3999   725937        13274  детская повязка на голову детская повязка детс...   \n",
       "\n",
       "      hier_leaf  hier_proba  \n",
       "0         13205    0.264725  \n",
       "1         14076    0.226782  \n",
       "2         12980    0.551842  \n",
       "3         13408    0.569301  \n",
       "4         12422    0.012839  \n",
       "...         ...         ...  \n",
       "3995      12476    0.316677  \n",
       "3996      13260    0.029716  \n",
       "3997      12454    0.749909  \n",
       "3998      12727    0.009855  \n",
       "3999      12109    0.186898  \n",
       "\n",
       "[4000 rows x 5 columns]"
      ]
     },
     "execution_count": 153,
     "metadata": {},
     "output_type": "execute_result"
    }
   ],
   "source": [
    "hyer_test_data"
   ]
  },
  {
   "cell_type": "code",
   "execution_count": 154,
   "id": "78874bc6",
   "metadata": {},
   "outputs": [],
   "source": [
    "fastt_test_data = data_valid.copy()\n",
    "fastt_test_data.category_id = fastt_test_data.category_id.apply(lambda text: text[9:]).astype('int')\n",
    "documents = fastt_test_data.Document.tolist()\n",
    "pred_ids, pred_probas = predict_proba(documents)\n",
    "fastt_test_data['fastt_leaf'] = pred_ids\n",
    "fastt_test_data['fastt_proba'] = pred_probas"
   ]
  },
  {
   "cell_type": "code",
   "execution_count": 155,
   "id": "041aaca6",
   "metadata": {},
   "outputs": [],
   "source": [
    "stacked_test = fastt_test_data.join(hyer_test_data, how='inner', rsuffix='_h')\n",
    "stacked_test['prob_ratio'] = stacked_test.fastt_proba / stacked_test.hier_proba\n",
    "stacked_test['prob_diff'] = stacked_test.fastt_proba - stacked_test.hier_proba"
   ]
  },
  {
   "cell_type": "markdown",
   "id": "fb265b01",
   "metadata": {},
   "source": [
    "Проверим, правильно ли соединились фреймы:"
   ]
  },
  {
   "cell_type": "code",
   "execution_count": 156,
   "id": "2aa378fc",
   "metadata": {
    "scrolled": true
   },
   "outputs": [
    {
     "data": {
      "text/html": [
       "<div>\n",
       "<style scoped>\n",
       "    .dataframe tbody tr th:only-of-type {\n",
       "        vertical-align: middle;\n",
       "    }\n",
       "\n",
       "    .dataframe tbody tr th {\n",
       "        vertical-align: top;\n",
       "    }\n",
       "\n",
       "    .dataframe thead th {\n",
       "        text-align: right;\n",
       "    }\n",
       "</style>\n",
       "<table border=\"1\" class=\"dataframe\">\n",
       "  <thead>\n",
       "    <tr style=\"text-align: right;\">\n",
       "      <th></th>\n",
       "      <th>id</th>\n",
       "      <th>category_id</th>\n",
       "      <th>Document</th>\n",
       "      <th>fastt_leaf</th>\n",
       "      <th>fastt_proba</th>\n",
       "      <th>id_h</th>\n",
       "      <th>category_id_h</th>\n",
       "      <th>Document_h</th>\n",
       "      <th>hier_leaf</th>\n",
       "      <th>hier_proba</th>\n",
       "      <th>prob_ratio</th>\n",
       "      <th>prob_diff</th>\n",
       "    </tr>\n",
       "  </thead>\n",
       "  <tbody>\n",
       "    <tr>\n",
       "      <th>0</th>\n",
       "      <td>1262422</td>\n",
       "      <td>12456</td>\n",
       "      <td>сорочка цвета подарок на марта сорочка размер ...</td>\n",
       "      <td>12456</td>\n",
       "      <td>0.996993</td>\n",
       "      <td>1262422</td>\n",
       "      <td>12456</td>\n",
       "      <td>сорочка цвета подарок на марта сорочка размер ...</td>\n",
       "      <td>13205</td>\n",
       "      <td>0.264725</td>\n",
       "      <td>3.766151</td>\n",
       "      <td>0.732268</td>\n",
       "    </tr>\n",
       "    <tr>\n",
       "      <th>1</th>\n",
       "      <td>526277</td>\n",
       "      <td>13061</td>\n",
       "      <td>серьги серьги серьги</td>\n",
       "      <td>13061</td>\n",
       "      <td>0.968346</td>\n",
       "      <td>526277</td>\n",
       "      <td>13061</td>\n",
       "      <td>серьги серьги серьги</td>\n",
       "      <td>14076</td>\n",
       "      <td>0.226782</td>\n",
       "      <td>4.269942</td>\n",
       "      <td>0.741564</td>\n",
       "    </tr>\n",
       "    <tr>\n",
       "      <th>2</th>\n",
       "      <td>113365</td>\n",
       "      <td>12980</td>\n",
       "      <td>беспроводные наушники sports headset bluetooth...</td>\n",
       "      <td>12980</td>\n",
       "      <td>0.999829</td>\n",
       "      <td>113365</td>\n",
       "      <td>12980</td>\n",
       "      <td>беспроводные наушники sports headset bluetooth...</td>\n",
       "      <td>12980</td>\n",
       "      <td>0.551842</td>\n",
       "      <td>1.811804</td>\n",
       "      <td>0.447987</td>\n",
       "    </tr>\n",
       "    <tr>\n",
       "      <th>3</th>\n",
       "      <td>642934</td>\n",
       "      <td>11937</td>\n",
       "      <td>чехол накладка принтом iphone xs max xiaomi mi...</td>\n",
       "      <td>11937</td>\n",
       "      <td>0.999569</td>\n",
       "      <td>642934</td>\n",
       "      <td>11937</td>\n",
       "      <td>чехол накладка принтом iphone xs max xiaomi mi...</td>\n",
       "      <td>13408</td>\n",
       "      <td>0.569301</td>\n",
       "      <td>1.755781</td>\n",
       "      <td>0.430267</td>\n",
       "    </tr>\n",
       "    <tr>\n",
       "      <th>4</th>\n",
       "      <td>448921</td>\n",
       "      <td>13066</td>\n",
       "      <td>дисплеи micromax canvas fire дисплеи micromax ...</td>\n",
       "      <td>13066</td>\n",
       "      <td>0.997870</td>\n",
       "      <td>448921</td>\n",
       "      <td>13066</td>\n",
       "      <td>дисплеи micromax canvas fire дисплеи micromax ...</td>\n",
       "      <td>12422</td>\n",
       "      <td>0.012839</td>\n",
       "      <td>77.723119</td>\n",
       "      <td>0.985032</td>\n",
       "    </tr>\n",
       "    <tr>\n",
       "      <th>...</th>\n",
       "      <td>...</td>\n",
       "      <td>...</td>\n",
       "      <td>...</td>\n",
       "      <td>...</td>\n",
       "      <td>...</td>\n",
       "      <td>...</td>\n",
       "      <td>...</td>\n",
       "      <td>...</td>\n",
       "      <td>...</td>\n",
       "      <td>...</td>\n",
       "      <td>...</td>\n",
       "      <td>...</td>\n",
       "    </tr>\n",
       "    <tr>\n",
       "      <th>3995</th>\n",
       "      <td>982751</td>\n",
       "      <td>11567</td>\n",
       "      <td>цепь чокер женская цепь чокер женская цепь чок...</td>\n",
       "      <td>12476</td>\n",
       "      <td>0.501856</td>\n",
       "      <td>982751</td>\n",
       "      <td>11567</td>\n",
       "      <td>цепь чокер женская цепь чокер женская цепь чок...</td>\n",
       "      <td>12476</td>\n",
       "      <td>0.316677</td>\n",
       "      <td>1.584760</td>\n",
       "      <td>0.185180</td>\n",
       "    </tr>\n",
       "    <tr>\n",
       "      <th>3996</th>\n",
       "      <td>747972</td>\n",
       "      <td>12751</td>\n",
       "      <td>школьный бант школьный бант школьный бант школ...</td>\n",
       "      <td>12751</td>\n",
       "      <td>0.999991</td>\n",
       "      <td>747972</td>\n",
       "      <td>12751</td>\n",
       "      <td>школьный бант школьный бант школьный бант школ...</td>\n",
       "      <td>13260</td>\n",
       "      <td>0.029716</td>\n",
       "      <td>33.651286</td>\n",
       "      <td>0.970275</td>\n",
       "    </tr>\n",
       "    <tr>\n",
       "      <th>3997</th>\n",
       "      <td>832637</td>\n",
       "      <td>12454</td>\n",
       "      <td>наклейка для дизайна ногтей lucky rose тема ли...</td>\n",
       "      <td>12454</td>\n",
       "      <td>0.999843</td>\n",
       "      <td>832637</td>\n",
       "      <td>12454</td>\n",
       "      <td>наклейка для дизайна ногтей lucky rose тема ли...</td>\n",
       "      <td>12454</td>\n",
       "      <td>0.749909</td>\n",
       "      <td>1.333285</td>\n",
       "      <td>0.249933</td>\n",
       "    </tr>\n",
       "    <tr>\n",
       "      <th>3998</th>\n",
       "      <td>1378353</td>\n",
       "      <td>11745</td>\n",
       "      <td>ключик замочек ключик ключик замочек</td>\n",
       "      <td>12727</td>\n",
       "      <td>0.069996</td>\n",
       "      <td>1378353</td>\n",
       "      <td>11745</td>\n",
       "      <td>ключик замочек ключик ключик замочек</td>\n",
       "      <td>12727</td>\n",
       "      <td>0.009855</td>\n",
       "      <td>7.102964</td>\n",
       "      <td>0.060142</td>\n",
       "    </tr>\n",
       "    <tr>\n",
       "      <th>3999</th>\n",
       "      <td>725937</td>\n",
       "      <td>13274</td>\n",
       "      <td>детская повязка на голову детская повязка детс...</td>\n",
       "      <td>13274</td>\n",
       "      <td>0.829627</td>\n",
       "      <td>725937</td>\n",
       "      <td>13274</td>\n",
       "      <td>детская повязка на голову детская повязка детс...</td>\n",
       "      <td>12109</td>\n",
       "      <td>0.186898</td>\n",
       "      <td>4.438936</td>\n",
       "      <td>0.642729</td>\n",
       "    </tr>\n",
       "  </tbody>\n",
       "</table>\n",
       "<p>4000 rows × 12 columns</p>\n",
       "</div>"
      ],
      "text/plain": [
       "           id  category_id                                           Document  \\\n",
       "0     1262422        12456  сорочка цвета подарок на марта сорочка размер ...   \n",
       "1      526277        13061                               серьги серьги серьги   \n",
       "2      113365        12980  беспроводные наушники sports headset bluetooth...   \n",
       "3      642934        11937  чехол накладка принтом iphone xs max xiaomi mi...   \n",
       "4      448921        13066  дисплеи micromax canvas fire дисплеи micromax ...   \n",
       "...       ...          ...                                                ...   \n",
       "3995   982751        11567  цепь чокер женская цепь чокер женская цепь чок...   \n",
       "3996   747972        12751  школьный бант школьный бант школьный бант школ...   \n",
       "3997   832637        12454  наклейка для дизайна ногтей lucky rose тема ли...   \n",
       "3998  1378353        11745               ключик замочек ключик ключик замочек   \n",
       "3999   725937        13274  детская повязка на голову детская повязка детс...   \n",
       "\n",
       "      fastt_leaf  fastt_proba     id_h  category_id_h  \\\n",
       "0          12456     0.996993  1262422          12456   \n",
       "1          13061     0.968346   526277          13061   \n",
       "2          12980     0.999829   113365          12980   \n",
       "3          11937     0.999569   642934          11937   \n",
       "4          13066     0.997870   448921          13066   \n",
       "...          ...          ...      ...            ...   \n",
       "3995       12476     0.501856   982751          11567   \n",
       "3996       12751     0.999991   747972          12751   \n",
       "3997       12454     0.999843   832637          12454   \n",
       "3998       12727     0.069996  1378353          11745   \n",
       "3999       13274     0.829627   725937          13274   \n",
       "\n",
       "                                             Document_h  hier_leaf  \\\n",
       "0     сорочка цвета подарок на марта сорочка размер ...      13205   \n",
       "1                                  серьги серьги серьги      14076   \n",
       "2     беспроводные наушники sports headset bluetooth...      12980   \n",
       "3     чехол накладка принтом iphone xs max xiaomi mi...      13408   \n",
       "4     дисплеи micromax canvas fire дисплеи micromax ...      12422   \n",
       "...                                                 ...        ...   \n",
       "3995  цепь чокер женская цепь чокер женская цепь чок...      12476   \n",
       "3996  школьный бант школьный бант школьный бант школ...      13260   \n",
       "3997  наклейка для дизайна ногтей lucky rose тема ли...      12454   \n",
       "3998               ключик замочек ключик ключик замочек      12727   \n",
       "3999  детская повязка на голову детская повязка детс...      12109   \n",
       "\n",
       "      hier_proba  prob_ratio  prob_diff  \n",
       "0       0.264725    3.766151   0.732268  \n",
       "1       0.226782    4.269942   0.741564  \n",
       "2       0.551842    1.811804   0.447987  \n",
       "3       0.569301    1.755781   0.430267  \n",
       "4       0.012839   77.723119   0.985032  \n",
       "...          ...         ...        ...  \n",
       "3995    0.316677    1.584760   0.185180  \n",
       "3996    0.029716   33.651286   0.970275  \n",
       "3997    0.749909    1.333285   0.249933  \n",
       "3998    0.009855    7.102964   0.060142  \n",
       "3999    0.186898    4.438936   0.642729  \n",
       "\n",
       "[4000 rows x 12 columns]"
      ]
     },
     "execution_count": 156,
     "metadata": {},
     "output_type": "execute_result"
    }
   ],
   "source": [
    "stacked_test[stacked_test.id==stacked_test.id_h]"
   ]
  },
  {
   "cell_type": "code",
   "execution_count": 160,
   "id": "56fdda82",
   "metadata": {
    "scrolled": true
   },
   "outputs": [
    {
     "name": "stdout",
     "output_type": "stream",
     "text": [
      "treshold=-3.00\n",
      "hF1=0.9154\n",
      "\n",
      "treshold=-1.50\n",
      "hF1=0.9154\n",
      "\n",
      "treshold=-1.00\n",
      "hF1=0.9154\n",
      "\n",
      "treshold=-0.90\n",
      "hF1=0.9154\n",
      "\n",
      "treshold=-0.80\n",
      "hF1=0.9154\n",
      "\n",
      "treshold=-0.70\n",
      "hF1=0.9154\n",
      "\n",
      "treshold=-0.60\n",
      "hF1=0.9154\n",
      "\n",
      "treshold=-0.50\n",
      "hF1=0.9152\n",
      "\n",
      "treshold=-0.40\n",
      "hF1=0.9149\n",
      "\n",
      "treshold=-0.30\n",
      "hF1=0.9146\n",
      "\n",
      "treshold=-0.25\n",
      "hF1=0.9148\n",
      "\n",
      "treshold=-0.20\n",
      "hF1=0.9146\n",
      "\n",
      "treshold=-0.13\n",
      "hF1=0.9148\n",
      "\n",
      "treshold=-0.10\n",
      "hF1=0.9153\n",
      "\n",
      "treshold=-0.05\n",
      "hF1=0.9153\n",
      "\n",
      "treshold=0.00\n",
      "hF1=0.9137\n",
      "\n",
      "treshold=0.01\n",
      "hF1=0.9134\n",
      "\n",
      "treshold=0.02\n",
      "hF1=0.9128\n",
      "\n",
      "treshold=0.03\n",
      "hF1=0.9114\n",
      "\n",
      "treshold=0.05\n",
      "hF1=0.9106\n",
      "\n",
      "treshold=0.07\n",
      "hF1=0.9100\n",
      "\n",
      "treshold=0.09\n",
      "hF1=0.9092\n",
      "\n",
      "treshold=0.11\n",
      "hF1=0.9074\n",
      "\n"
     ]
    }
   ],
   "source": [
    "for treshold in [-3, -1.5, -1, -0.9, -0.8, -0.7, -0.6, -0.5, -0.4, -0.3, -0.25, -0.2, -0.13, -0.095, -0.05, 0, 0.01, 0.02, 0.03, 0.05, 0.07, 0.09, 0.11]:\n",
    "    stack_pred=[f_leaf if diff>treshold else h_leaf for diff, f_leaf, h_leaf in zip(stacked_test['prob_diff'], stacked_test['fastt_leaf'], stacked_test['hier_leaf'])]\n",
    "    print(f'treshold={treshold:.2f}')\n",
    "    print(f'hF1={cat_tree.hF1_score(stacked_test.category_id.tolist(), stack_pred):.4f}\\n')\n",
    "    "
   ]
  },
  {
   "cell_type": "code",
   "execution_count": 158,
   "id": "86753c23",
   "metadata": {
    "scrolled": true
   },
   "outputs": [
    {
     "name": "stdout",
     "output_type": "stream",
     "text": [
      "treshold=0.00\n",
      "hF1=0.9154\n",
      "\n",
      "treshold=0.10\n",
      "hF1=0.9154\n",
      "\n",
      "treshold=0.20\n",
      "hF1=0.9156\n",
      "\n",
      "treshold=0.30\n",
      "hF1=0.9153\n",
      "\n",
      "treshold=0.40\n",
      "hF1=0.9147\n",
      "\n",
      "treshold=0.45\n",
      "hF1=0.9147\n",
      "\n",
      "treshold=0.50\n",
      "hF1=0.9148\n",
      "\n",
      "treshold=0.55\n",
      "hF1=0.9146\n",
      "\n",
      "treshold=0.65\n",
      "hF1=0.9153\n",
      "\n",
      "treshold=1.00\n",
      "hF1=0.9137\n",
      "\n",
      "treshold=2.00\n",
      "hF1=0.8623\n",
      "\n",
      "treshold=3.00\n",
      "hF1=0.8317\n",
      "\n"
     ]
    }
   ],
   "source": [
    "for treshold in [0, 0.1, 0.2, 0.3, 0.4, 0.45, 0.5, 0.55, 0.65, 1, 2, 3]:\n",
    "    stack_pred=[f_leaf if ratio>treshold else h_leaf for ratio, f_leaf, h_leaf in zip(stacked_test['prob_ratio'], stacked_test['fastt_leaf'], stacked_test['hier_leaf'])]\n",
    "    print(f'treshold={treshold:.2f}')\n",
    "    print(f'hF1={cat_tree.hF1_score(stacked_test.category_id.tolist(), stack_pred):.4f}\\n')"
   ]
  },
  {
   "cell_type": "code",
   "execution_count": null,
   "id": "64051b2f",
   "metadata": {},
   "outputs": [],
   "source": []
  },
  {
   "cell_type": "code",
   "execution_count": null,
   "id": "fcf7a226",
   "metadata": {},
   "outputs": [],
   "source": []
  },
  {
   "cell_type": "code",
   "execution_count": null,
   "id": "3313a3b5",
   "metadata": {},
   "outputs": [],
   "source": []
  },
  {
   "cell_type": "code",
   "execution_count": null,
   "id": "c4ac5f6e",
   "metadata": {},
   "outputs": [],
   "source": []
  },
  {
   "cell_type": "code",
   "execution_count": null,
   "id": "cb7cb594",
   "metadata": {},
   "outputs": [],
   "source": []
  }
 ],
 "metadata": {
  "kernelspec": {
   "display_name": "Python 3 (ipykernel)",
   "language": "python",
   "name": "python3"
  },
  "language_info": {
   "codemirror_mode": {
    "name": "ipython",
    "version": 3
   },
   "file_extension": ".py",
   "mimetype": "text/x-python",
   "name": "python",
   "nbconvert_exporter": "python",
   "pygments_lexer": "ipython3",
   "version": "3.8.13"
  }
 },
 "nbformat": 4,
 "nbformat_minor": 5
}
