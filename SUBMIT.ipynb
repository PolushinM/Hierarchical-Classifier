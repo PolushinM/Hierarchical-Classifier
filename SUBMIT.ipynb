{
 "cells": [
  {
   "cell_type": "markdown",
   "id": "2f6a0f82",
   "metadata": {},
   "source": [
    "## Бейзлайн - простейший плоский классификатор на основе библиотеки FastText."
   ]
  },
  {
   "cell_type": "code",
   "execution_count": 1,
   "id": "6e42c57a",
   "metadata": {},
   "outputs": [],
   "source": [
    "import os\n",
    "from pathlib import Path\n",
    "import fasttext\n",
    "import numpy as np \n",
    "import pandas as pd\n",
    "import csv\n",
    "from gensim.utils import simple_preprocess\n",
    "\n",
    "from HierarchicalLibrary import CategoryTree"
   ]
  },
  {
   "cell_type": "markdown",
   "id": "81f8b0ee",
   "metadata": {},
   "source": [
    "Подготавливаем полный, тренировочный и валидационный датасеты:\n",
    "перемешиваем данные в фрейме,\n",
    "удаляем колонки рейтинга и кол-ва отзывов,\n",
    "корректируем типы данных колонок,\n",
    "заполняем пропущенные значения,\n",
    "текст из колонок 'title', 'short_description' и 'name_value_characteristics' объединяем в колонку \"Document\", добавляем первые слова из колонки 'title', чтобы увеличить их вес (самые важные слова - в начале описания)."
   ]
  },
  {
   "cell_type": "code",
   "execution_count": 2,
   "id": "293d24ea",
   "metadata": {},
   "outputs": [],
   "source": [
    "# Method for increasing the weight of the first words of title\n",
    "def word_pyramid(string: str, min_n_words: int, max_n_words: int) -> list:\n",
    "    result = []\n",
    "    split = string.split(' ')\n",
    "    for i in range(min_n_words, max_n_words+1):\n",
    "        result += split[:i]\n",
    "    return ' '.join(result)\n",
    "\n",
    "# Predicting labels and probabilities for list of documents \n",
    "def predict_proba(documents: list) -> tuple:\n",
    "    prediction = model.predict(documents, k=1)\n",
    "    labels_result = []\n",
    "    proba_result = []\n",
    "    for label in prediction[0]:\n",
    "        labels_result.append(int(label[0][9:]))\n",
    "    return np.array(labels_result), np.array(prediction[1])[:, 0]\n",
    "\n",
    "# Predicting on a single input\n",
    "def predict(document):\n",
    "    return int(model.predict(document)[0][0][9:])\n",
    "\n",
    "# Test data preparation\n",
    "def get_prepared_test_data(df_in: pd.DataFrame) -> pd.DataFrame:\n",
    "    df=df_in.copy()\n",
    "    df.drop(['rating', 'feedback_quantity'], axis=1, inplace=True)\n",
    "    df.title = df.title.astype('string')\n",
    "    df.short_description = df.short_description.astype('string')\n",
    "    df.fillna(value='', inplace=True)\n",
    "    df.name_value_characteristics = df.name_value_characteristics.astype('string')\n",
    "    df = df.assign(Document=[str(x) + ' ' + str(y) + ' ' + str(z) + ' ' + word_pyramid(x, 2, 3) for x, y, z in zip(df['title'], df['short_description'], df['name_value_characteristics'])])\n",
    "    df.drop(['title', 'short_description', 'name_value_characteristics'], axis=1, inplace=True)\n",
    "    df.Document = df.Document.astype('string')\n",
    "    df.Document = df.Document.apply(lambda x: ' '.join(simple_preprocess(x)))\n",
    "    return df\n"
   ]
  },
  {
   "cell_type": "code",
   "execution_count": 3,
   "id": "c5b13bf6",
   "metadata": {},
   "outputs": [],
   "source": [
    "full_train_data = pd.read_parquet('train.parquet')\n",
    "\n",
    "data_full = full_train_data.sample(frac=1, random_state=1).copy()\n",
    "data_full.drop(['rating', 'feedback_quantity'], axis=1, inplace=True)\n",
    "data_full.title = data_full.title.astype('string')\n",
    "data_full.short_description = data_full.short_description.astype('string')\n",
    "data_full.fillna(value='', inplace=True)\n",
    "data_full.name_value_characteristics = data_full.name_value_characteristics.astype('string')\n",
    "data_full = data_full.assign(Document=[str(x) + ' ' + str(y) + ' ' + str(z) + ' ' + word_pyramid(x, 2, 3) for x, y, z in zip(data_full['title'], data_full['short_description'], data_full['name_value_characteristics'])])\n",
    "data_full.drop(['title', 'short_description', 'name_value_characteristics'], axis=1, inplace=True)\n",
    "data_full.Document = data_full.Document.astype('string')\n",
    "\n",
    "data = data_full[:-4000].reset_index(drop=True)\n",
    "data_valid = data_full[-4000:].reset_index(drop=True)\n"
   ]
  },
  {
   "cell_type": "markdown",
   "id": "0652c45c",
   "metadata": {},
   "source": [
    "Преобразуем данные в формат, принимаемый FastText."
   ]
  },
  {
   "cell_type": "code",
   "execution_count": 4,
   "id": "f5589f32",
   "metadata": {},
   "outputs": [],
   "source": [
    "data.Document = data.Document.apply(lambda x: ' '.join(simple_preprocess(x)))\n",
    "data_valid.Document = data_valid.Document.apply(lambda x: ' '.join(simple_preprocess(x)))\n",
    "\n",
    "data.category_id = data.category_id.apply(lambda x: '__label__' + str(x))\n",
    "data_valid.category_id = data_valid.category_id.apply(lambda x: '__label__' + str(x))"
   ]
  },
  {
   "cell_type": "markdown",
   "id": "586e01ef",
   "metadata": {},
   "source": [
    "FastText принимает данные в виде текстовых файлов, поэтому сохраняем данные на диск."
   ]
  },
  {
   "cell_type": "code",
   "execution_count": 5,
   "id": "67a609f5",
   "metadata": {},
   "outputs": [],
   "source": [
    "# Saving the CSV file as a text file to train/test the classifier\n",
    "data[['Document', 'category_id']].to_csv('train_fasttext.txt', \n",
    "                                          index = False, \n",
    "                                          sep = ' ',\n",
    "                                          header = None, \n",
    "                                          quoting = csv.QUOTE_NONE, \n",
    "                                          quotechar = \"\", \n",
    "                                          escapechar = \" \")\n",
    "\n",
    "data_valid[['Document', 'category_id']].to_csv('test_fasttext.txt', \n",
    "                                               index = False, \n",
    "                                               sep = ' ',\n",
    "                                               header = None, \n",
    "                                               quoting = csv.QUOTE_NONE, \n",
    "                                               quotechar = \"\", \n",
    "                                               escapechar = \" \")\n"
   ]
  },
  {
   "cell_type": "markdown",
   "id": "be9f3994",
   "metadata": {},
   "source": [
    "Обучаем модель."
   ]
  },
  {
   "cell_type": "code",
   "execution_count": 6,
   "id": "e843673b",
   "metadata": {},
   "outputs": [
    {
     "name": "stderr",
     "output_type": "stream",
     "text": [
      "Read 4M words\n",
      "Number of words:  87455\n",
      "Number of labels: 1231\n",
      "Progress: 100.0% words/sec/thread:   16580 lr:  0.000000 avg.loss:  0.276811 ETA:   0h 0m 0s 0.340789 avg.loss:  3.968186 ETA:   0h21m 7sm15s 1.434904 ETA:   0h24m 1s 20.0% words/sec/thread:   17664 lr:  0.280020 avg.loss:  1.007461 ETA:   0h22m26s 22.1% words/sec/thread:   17486 lr:  0.272728 avg.loss:  0.934059 ETA:   0h22m 4s 23.4% words/sec/thread:   17486 lr:  0.268059 avg.loss:  0.888414 ETA:   0h21m41s 52.2% words/sec/thread:   16891 lr:  0.167219 avg.loss:  0.472346 ETA:   0h14m 0s  16827 lr:  0.125070 avg.loss:  0.396615 ETA:   0h10m31s lr:  0.086577 avg.loss:  0.349536 ETA:   0h 7m18s 78.4% words/sec/thread:   16706 lr:  0.075487 avg.loss:  0.338099 ETA:   0h 6m23s 81.2% words/sec/thread:   16689 lr:  0.065664 avg.loss:  0.328538 ETA:   0h 5m34s avg.loss:  0.328457 ETA:   0h 5m33s 84.8% words/sec/thread:   16624 lr:  0.053073 avg.loss:  0.317162 ETA:   0h 4m31s lr:  0.043532 avg.loss:  0.309179 ETA:   0h 3m42s51s 98.3% words/sec/thread:   16581 lr:  0.005808 avg.loss:  0.281095 ETA:   0h 0m29s\n"
     ]
    }
   ],
   "source": [
    "# Training the fastText classifier\n",
    "model = fasttext.train_supervised('train_fasttext.txt',\n",
    "                                  lr=0.35,                # learning rate [0.1]\n",
    "                                  dim=70,               # size of word vectors [100]\n",
    "                                  ws=4,                # size of the context window [5]\n",
    "                                  epoch=30,             # number of epochs [5]\n",
    "                                  neg=5,               # number of negatives sampled [5]\n",
    "                                  wordNgrams=3)"
   ]
  },
  {
   "cell_type": "markdown",
   "id": "d528bb3a",
   "metadata": {},
   "source": [
    "Проверяем качество классификации на трейне:"
   ]
  },
  {
   "cell_type": "code",
   "execution_count": 7,
   "id": "fe9015a7",
   "metadata": {},
   "outputs": [],
   "source": [
    "# Evaluating performance on the entire train file\n",
    "_, precision, recall = model.test('train_fasttext.txt') \n",
    "leaf_F1 = (2*precision*recall) / (precision+recall)"
   ]
  },
  {
   "cell_type": "code",
   "execution_count": 8,
   "id": "5640ce10",
   "metadata": {},
   "outputs": [
    {
     "name": "stdout",
     "output_type": "stream",
     "text": [
      "Leaf F1=0.9862\n"
     ]
    }
   ],
   "source": [
    "print(f'Leaf F1={leaf_F1:.4f}') "
   ]
  },
  {
   "cell_type": "markdown",
   "id": "9eace4a2",
   "metadata": {},
   "source": [
    "Проверяем качество классификации на тестовой выборке:"
   ]
  },
  {
   "cell_type": "code",
   "execution_count": 9,
   "id": "383469b1",
   "metadata": {},
   "outputs": [],
   "source": [
    "# Evaluating performance on the entire test file\n",
    "_, precision, recall = model.test('test_fasttext.txt')                      \n",
    "leaf_F1 = (2*precision*recall) / (precision+recall)"
   ]
  },
  {
   "cell_type": "code",
   "execution_count": 10,
   "id": "6571fbea",
   "metadata": {},
   "outputs": [
    {
     "name": "stdout",
     "output_type": "stream",
     "text": [
      "Leaf F1=0.8592\n"
     ]
    }
   ],
   "source": [
    "print(f'Leaf F1={leaf_F1:.4f}') "
   ]
  },
  {
   "cell_type": "markdown",
   "id": "0a1d957e",
   "metadata": {},
   "source": [
    "При необходимости, сохраняем или загружаем модель."
   ]
  },
  {
   "cell_type": "code",
   "execution_count": 11,
   "id": "08290af8",
   "metadata": {},
   "outputs": [],
   "source": [
    "# Save the trained model\n",
    "path = os.path.join(Path(\".\").parent, 'FastText_baseline', 'fasttext_model')\n",
    "model.save_model(path)"
   ]
  },
  {
   "cell_type": "code",
   "execution_count": 12,
   "id": "a1d39287",
   "metadata": {},
   "outputs": [
    {
     "name": "stderr",
     "output_type": "stream",
     "text": [
      "Warning : `load_model` does not return WordVectorModel or SupervisedModel any more, but a `FastText` object which is very similar.\n"
     ]
    }
   ],
   "source": [
    "# Load the trained model\n",
    "path = os.path.join(Path(\".\").parent, 'FastText_baseline', 'fasttext_model')\n",
    "model = fasttext.load_model(path)"
   ]
  },
  {
   "cell_type": "markdown",
   "id": "a67e566c",
   "metadata": {},
   "source": [
    "Для того чтобы проверить качество иерархической классификации, инициализируем и заполняем класс дерева категорий."
   ]
  },
  {
   "cell_type": "code",
   "execution_count": 13,
   "id": "4eae83ed",
   "metadata": {},
   "outputs": [],
   "source": [
    "cat_tree_df = pd.read_csv('categories_tree.csv', index_col=0)"
   ]
  },
  {
   "cell_type": "code",
   "execution_count": 14,
   "id": "1da990ff",
   "metadata": {},
   "outputs": [],
   "source": [
    "cat_tree = CategoryTree()\n",
    "cat_tree.add_nodes_from_df(cat_tree_df, parent_id_col='parent_id', title_col='title')\n",
    "cat_tree.add_goods_from_df(data_full, category_id_col='category_id', good_id_col='id')"
   ]
  },
  {
   "cell_type": "markdown",
   "id": "c85822c3",
   "metadata": {},
   "source": [
    "Считаем метрики для train датасета."
   ]
  },
  {
   "cell_type": "code",
   "execution_count": 15,
   "id": "2d797ddb",
   "metadata": {},
   "outputs": [
    {
     "name": "stdout",
     "output_type": "stream",
     "text": [
      "Train hF1=0.9920\n",
      "Train hF1_01=0.9947\n"
     ]
    }
   ],
   "source": [
    "data_test = data[:10000].copy()\n",
    "data_test.category_id = data_test.category_id.apply(lambda text: text[9:]).astype('int')\n",
    "data_test['predicted_id'] = data_test.Document.astype('string')\n",
    "data_test.predicted_id = data_test.predicted_id.apply(lambda text: predict(text)).astype('int')\n",
    "\n",
    "test_target = data_test.category_id.tolist()\n",
    "pred_leafs = data_test.predicted_id.tolist()\n",
    "\n",
    "print(f'Train hF1={cat_tree.hF1_score(test_target, pred_leafs):.4f}') #0.9187\n",
    "print(f'Train hF1_01={cat_tree.hF1_score_01(test_target, pred_leafs):.4f}') #0.9463"
   ]
  },
  {
   "cell_type": "markdown",
   "id": "f5aaa9a2",
   "metadata": {},
   "source": [
    "Предсказываем категории в тестовом сете."
   ]
  },
  {
   "cell_type": "code",
   "execution_count": 16,
   "id": "0ae34502",
   "metadata": {},
   "outputs": [],
   "source": [
    "data_valid_test = data_valid.copy()\n",
    "data_valid_test.category_id = data_valid_test.category_id.apply(lambda text: text[9:]).astype('int')\n",
    "data_valid_test['predicted_id'] = data_valid_test.Document.astype('string')\n",
    "data_valid_test.predicted_id = data_valid_test.predicted_id.apply(lambda text: predict(text)).astype('int')"
   ]
  },
  {
   "cell_type": "markdown",
   "id": "8d679ea0",
   "metadata": {},
   "source": [
    "Подготавливаем данные для расчета иерархической метрики."
   ]
  },
  {
   "cell_type": "code",
   "execution_count": 17,
   "id": "0c54617d",
   "metadata": {},
   "outputs": [],
   "source": [
    "test_target = data_valid_test.category_id.tolist()\n",
    "pred_leafs = data_valid_test.predicted_id.tolist()"
   ]
  },
  {
   "cell_type": "markdown",
   "id": "804436cc",
   "metadata": {},
   "source": [
    "Расчет иерархической F1-меры. "
   ]
  },
  {
   "cell_type": "code",
   "execution_count": 18,
   "id": "c3f5beef",
   "metadata": {},
   "outputs": [
    {
     "name": "stdout",
     "output_type": "stream",
     "text": [
      "Validation hF1=0.9157\n",
      "Validation hF1_01=0.9443\n"
     ]
    }
   ],
   "source": [
    "print(f'Validation hF1={cat_tree.hF1_score(test_target, pred_leafs):.4f}') #0.9187\n",
    "print(f'Validation hF1_01={cat_tree.hF1_score_01(test_target, pred_leafs):.4f}') #0.9463"
   ]
  },
  {
   "cell_type": "markdown",
   "id": "d54c0d0b",
   "metadata": {},
   "source": [
    "Несмотря на простоту алгоритма, после подбора гиперпараметров получился очень хороший бейзлайн, hF1=0.91."
   ]
  },
  {
   "cell_type": "markdown",
   "id": "cb2ab1ca",
   "metadata": {},
   "source": [
    "#### Обучаем модель на полном датасете"
   ]
  },
  {
   "cell_type": "code",
   "execution_count": 19,
   "id": "e5323f53",
   "metadata": {},
   "outputs": [
    {
     "data": {
      "text/html": [
       "<div>\n",
       "<style scoped>\n",
       "    .dataframe tbody tr th:only-of-type {\n",
       "        vertical-align: middle;\n",
       "    }\n",
       "\n",
       "    .dataframe tbody tr th {\n",
       "        vertical-align: top;\n",
       "    }\n",
       "\n",
       "    .dataframe thead th {\n",
       "        text-align: right;\n",
       "    }\n",
       "</style>\n",
       "<table border=\"1\" class=\"dataframe\">\n",
       "  <thead>\n",
       "    <tr style=\"text-align: right;\">\n",
       "      <th></th>\n",
       "      <th>id</th>\n",
       "      <th>category_id</th>\n",
       "      <th>Document</th>\n",
       "    </tr>\n",
       "  </thead>\n",
       "  <tbody>\n",
       "    <tr>\n",
       "      <th>143374</th>\n",
       "      <td>1181186</td>\n",
       "      <td>__label__12350</td>\n",
       "      <td>маска masil для объёма волос ml корейская косм...</td>\n",
       "    </tr>\n",
       "    <tr>\n",
       "      <th>194087</th>\n",
       "      <td>304936</td>\n",
       "      <td>__label__12917</td>\n",
       "      <td>силиконовый дорожный контейнер футляр чехол дл...</td>\n",
       "    </tr>\n",
       "    <tr>\n",
       "      <th>13188</th>\n",
       "      <td>816714</td>\n",
       "      <td>__label__14125</td>\n",
       "      <td>тканевая маска для лица муцином улитки snail д...</td>\n",
       "    </tr>\n",
       "    <tr>\n",
       "      <th>28368</th>\n",
       "      <td>1437391</td>\n",
       "      <td>__label__11574</td>\n",
       "      <td>браслеты из бисера браслеты из бисера браслеты...</td>\n",
       "    </tr>\n",
       "    <tr>\n",
       "      <th>181331</th>\n",
       "      <td>1234938</td>\n",
       "      <td>__label__12761</td>\n",
       "      <td>бальзам haute couture luxury blond для блондир...</td>\n",
       "    </tr>\n",
       "    <tr>\n",
       "      <th>...</th>\n",
       "      <td>...</td>\n",
       "      <td>...</td>\n",
       "      <td>...</td>\n",
       "    </tr>\n",
       "    <tr>\n",
       "      <th>21440</th>\n",
       "      <td>982751</td>\n",
       "      <td>__label__11567</td>\n",
       "      <td>цепь чокер женская цепь чокер женская цепь чок...</td>\n",
       "    </tr>\n",
       "    <tr>\n",
       "      <th>117583</th>\n",
       "      <td>747972</td>\n",
       "      <td>__label__12751</td>\n",
       "      <td>школьный бант школьный бант школьный бант школ...</td>\n",
       "    </tr>\n",
       "    <tr>\n",
       "      <th>73349</th>\n",
       "      <td>832637</td>\n",
       "      <td>__label__12454</td>\n",
       "      <td>наклейка для дизайна ногтей lucky rose тема ли...</td>\n",
       "    </tr>\n",
       "    <tr>\n",
       "      <th>267336</th>\n",
       "      <td>1378353</td>\n",
       "      <td>__label__11745</td>\n",
       "      <td>ключик замочек ключик ключик замочек</td>\n",
       "    </tr>\n",
       "    <tr>\n",
       "      <th>128037</th>\n",
       "      <td>725937</td>\n",
       "      <td>__label__13274</td>\n",
       "      <td>детская повязка на голову детская повязка детс...</td>\n",
       "    </tr>\n",
       "  </tbody>\n",
       "</table>\n",
       "<p>283452 rows × 3 columns</p>\n",
       "</div>"
      ],
      "text/plain": [
       "             id     category_id  \\\n",
       "143374  1181186  __label__12350   \n",
       "194087   304936  __label__12917   \n",
       "13188    816714  __label__14125   \n",
       "28368   1437391  __label__11574   \n",
       "181331  1234938  __label__12761   \n",
       "...         ...             ...   \n",
       "21440    982751  __label__11567   \n",
       "117583   747972  __label__12751   \n",
       "73349    832637  __label__12454   \n",
       "267336  1378353  __label__11745   \n",
       "128037   725937  __label__13274   \n",
       "\n",
       "                                                 Document  \n",
       "143374  маска masil для объёма волос ml корейская косм...  \n",
       "194087  силиконовый дорожный контейнер футляр чехол дл...  \n",
       "13188   тканевая маска для лица муцином улитки snail д...  \n",
       "28368   браслеты из бисера браслеты из бисера браслеты...  \n",
       "181331  бальзам haute couture luxury blond для блондир...  \n",
       "...                                                   ...  \n",
       "21440   цепь чокер женская цепь чокер женская цепь чок...  \n",
       "117583  школьный бант школьный бант школьный бант школ...  \n",
       "73349   наклейка для дизайна ногтей lucky rose тема ли...  \n",
       "267336               ключик замочек ключик ключик замочек  \n",
       "128037  детская повязка на голову детская повязка детс...  \n",
       "\n",
       "[283452 rows x 3 columns]"
      ]
     },
     "execution_count": 19,
     "metadata": {},
     "output_type": "execute_result"
    }
   ],
   "source": [
    "data_full.Document = data_full.Document.apply(lambda x: ' '.join(simple_preprocess(x)))\n",
    "data_full.category_id = data_full.category_id.apply(lambda x: '__label__' + str(x))\n",
    "data_full"
   ]
  },
  {
   "cell_type": "code",
   "execution_count": 20,
   "id": "d525c438",
   "metadata": {},
   "outputs": [],
   "source": [
    "# Saving the CSV file as a text file to train/test the classifier\n",
    "data_full[['Document', 'category_id']].to_csv('full_train_fasttext.txt', \n",
    "                                          index = False, \n",
    "                                          sep = ' ',\n",
    "                                          header = None, \n",
    "                                          quoting = csv.QUOTE_NONE, \n",
    "                                          quotechar = \"\", \n",
    "                                          escapechar = \" \")\n"
   ]
  },
  {
   "cell_type": "code",
   "execution_count": 21,
   "id": "cbdbc979",
   "metadata": {},
   "outputs": [
    {
     "name": "stderr",
     "output_type": "stream",
     "text": [
      "Read 5M words\n",
      "Number of words:  87958\n",
      "Number of labels: 1231\n",
      "Progress: 100.0% words/sec/thread:   16189 lr:  0.000000 avg.loss:  0.276396 ETA:   0h 0m 0s 14.1% words/sec/thread:   16159 lr:  0.300725 avg.loss:  1.249072 ETA:   0h26m42s  16142 lr:  0.281173 avg.loss:  0.987788 ETA:   0h25m 0s 0.275379 avg.loss:  0.923179 ETA:   0h24m10s  16372 lr:  0.274451 avg.loss:  0.914931 ETA:   0h24m 3s 23.8% words/sec/thread:   16342 lr:  0.266787 avg.loss:  0.853700 ETA:   0h23m26s 0.247369 avg.loss:  0.729115 ETA:   0h21m47s 40.5% words/sec/thread:   16020 lr:  0.208243 avg.loss:  0.570555 ETA:   0h18m39s lr:  0.205689 avg.loss:  0.562452 ETA:   0h18m25s 42.0% words/sec/thread:   16026 lr:  0.202888 avg.loss:  0.554145 ETA:   0h18m10s16m48s 0.434544 ETA:   0h13m13s  0h 9m15s avg.loss:  0.336106 ETA:   0h 6m25s 87.8% words/sec/thread:   16107 lr:  0.042557 avg.loss:  0.309344 ETA:   0h 3m47s\n"
     ]
    }
   ],
   "source": [
    "# Training the fastText classifier\n",
    "model = fasttext.train_supervised('full_train_fasttext.txt',\n",
    "                                  lr=0.35,                # learning rate [0.1]\n",
    "                                  dim=70,               # size of word vectors [100]\n",
    "                                  ws=4,                # size of the context window [5]\n",
    "                                  epoch=30,             # number of epochs [5]\n",
    "                                  neg=5,               # number of negatives sampled [5]\n",
    "                                  wordNgrams=3)"
   ]
  },
  {
   "cell_type": "markdown",
   "id": "8ccb41b8",
   "metadata": {},
   "source": [
    "#### Подготовка данных для сабмита"
   ]
  },
  {
   "cell_type": "markdown",
   "id": "dec9b00c",
   "metadata": {},
   "source": [
    "Так как ничего значительно лучше бейзлайна обучить не удалось - будем использовать именно его."
   ]
  },
  {
   "cell_type": "code",
   "execution_count": 23,
   "id": "3e8b0044",
   "metadata": {},
   "outputs": [],
   "source": [
    "# TEST data for submit\n",
    "TEST_data = get_prepared_test_data(pd.read_parquet('test.parquet'))"
   ]
  },
  {
   "cell_type": "code",
   "execution_count": 24,
   "id": "e493280d",
   "metadata": {},
   "outputs": [],
   "source": [
    "# Test data for testing of submit data preparing functions\n",
    "test_TEST_data = get_prepared_test_data(pd.read_parquet('train.parquet')[-10000:])\n",
    "test_TEST_category_id = test_TEST_data.category_id.tolist()\n",
    "test_TEST_data.drop(['category_id'], axis=1, inplace=True)"
   ]
  },
  {
   "cell_type": "code",
   "execution_count": 25,
   "id": "8358d6f4",
   "metadata": {},
   "outputs": [
    {
     "data": {
      "text/html": [
       "<div>\n",
       "<style scoped>\n",
       "    .dataframe tbody tr th:only-of-type {\n",
       "        vertical-align: middle;\n",
       "    }\n",
       "\n",
       "    .dataframe tbody tr th {\n",
       "        vertical-align: top;\n",
       "    }\n",
       "\n",
       "    .dataframe thead th {\n",
       "        text-align: right;\n",
       "    }\n",
       "</style>\n",
       "<table border=\"1\" class=\"dataframe\">\n",
       "  <thead>\n",
       "    <tr style=\"text-align: right;\">\n",
       "      <th></th>\n",
       "      <th>id</th>\n",
       "      <th>Document</th>\n",
       "    </tr>\n",
       "  </thead>\n",
       "  <tbody>\n",
       "    <tr>\n",
       "      <th>0</th>\n",
       "      <td>1070974</td>\n",
       "      <td>браслет из натуральных камней lotus браслет из...</td>\n",
       "    </tr>\n",
       "    <tr>\n",
       "      <th>1</th>\n",
       "      <td>450413</td>\n",
       "      <td>fusion life шампунь для сухих окрашенных волос...</td>\n",
       "    </tr>\n",
       "    <tr>\n",
       "      <th>2</th>\n",
       "      <td>126857</td>\n",
       "      <td>микрофон для пк jack мм всенаправленный универ...</td>\n",
       "    </tr>\n",
       "    <tr>\n",
       "      <th>3</th>\n",
       "      <td>1577569</td>\n",
       "      <td>серьги гвоздики сердце серьги гвоздики сердце ...</td>\n",
       "    </tr>\n",
       "    <tr>\n",
       "      <th>4</th>\n",
       "      <td>869328</td>\n",
       "      <td>чёрно красная стильная брошь тюльпаны из акрил...</td>\n",
       "    </tr>\n",
       "    <tr>\n",
       "      <th>...</th>\n",
       "      <td>...</td>\n",
       "      <td>...</td>\n",
       "    </tr>\n",
       "    <tr>\n",
       "      <th>70859</th>\n",
       "      <td>967535</td>\n",
       "      <td>носки мехом куницы авокадо разноцветные пуховы...</td>\n",
       "    </tr>\n",
       "    <tr>\n",
       "      <th>70860</th>\n",
       "      <td>1488636</td>\n",
       "      <td>эфирное масло сосны мл от кедрмаркет масло сос...</td>\n",
       "    </tr>\n",
       "    <tr>\n",
       "      <th>70861</th>\n",
       "      <td>827510</td>\n",
       "      <td>компект футболка шорты отличный комплект удобн...</td>\n",
       "    </tr>\n",
       "    <tr>\n",
       "      <th>70862</th>\n",
       "      <td>529244</td>\n",
       "      <td>купальный костюм mark formelle none российский...</td>\n",
       "    </tr>\n",
       "    <tr>\n",
       "      <th>70863</th>\n",
       "      <td>1400885</td>\n",
       "      <td>шапка горошек шапка горошек шапка горошек</td>\n",
       "    </tr>\n",
       "  </tbody>\n",
       "</table>\n",
       "<p>70864 rows × 2 columns</p>\n",
       "</div>"
      ],
      "text/plain": [
       "            id                                           Document\n",
       "0      1070974  браслет из натуральных камней lotus браслет из...\n",
       "1       450413  fusion life шампунь для сухих окрашенных волос...\n",
       "2       126857  микрофон для пк jack мм всенаправленный универ...\n",
       "3      1577569  серьги гвоздики сердце серьги гвоздики сердце ...\n",
       "4       869328  чёрно красная стильная брошь тюльпаны из акрил...\n",
       "...        ...                                                ...\n",
       "70859   967535  носки мехом куницы авокадо разноцветные пуховы...\n",
       "70860  1488636  эфирное масло сосны мл от кедрмаркет масло сос...\n",
       "70861   827510  компект футболка шорты отличный комплект удобн...\n",
       "70862   529244  купальный костюм mark formelle none российский...\n",
       "70863  1400885          шапка горошек шапка горошек шапка горошек\n",
       "\n",
       "[70864 rows x 2 columns]"
      ]
     },
     "execution_count": 25,
     "metadata": {},
     "output_type": "execute_result"
    }
   ],
   "source": [
    "TEST_data"
   ]
  },
  {
   "cell_type": "code",
   "execution_count": 26,
   "id": "c200d484",
   "metadata": {},
   "outputs": [],
   "source": [
    "def get_predicted_data(df_in: pd.DataFrame) -> pd.DataFrame:\n",
    "    df = df_in.copy()\n",
    "    df['predicted_category_id'] = df.Document.astype('string')\n",
    "    df.predicted_category_id = df.predicted_category_id.apply(lambda text: predict(text)).astype('int')\n",
    "    df.drop(['Document'], axis=1, inplace=True)\n",
    "    return df"
   ]
  },
  {
   "cell_type": "markdown",
   "id": "bf212caa",
   "metadata": {},
   "source": [
    "Сохраняем окончательный сабмит:"
   ]
  },
  {
   "cell_type": "code",
   "execution_count": 27,
   "id": "67b73866",
   "metadata": {},
   "outputs": [],
   "source": [
    "get_predicted_data(TEST_data).to_parquet('result.parquet')"
   ]
  },
  {
   "cell_type": "code",
   "execution_count": null,
   "id": "7d6881da",
   "metadata": {},
   "outputs": [],
   "source": []
  }
 ],
 "metadata": {
  "kernelspec": {
   "display_name": "Python 3 (ipykernel)",
   "language": "python",
   "name": "python3"
  },
  "language_info": {
   "codemirror_mode": {
    "name": "ipython",
    "version": 3
   },
   "file_extension": ".py",
   "mimetype": "text/x-python",
   "name": "python",
   "nbconvert_exporter": "python",
   "pygments_lexer": "ipython3",
   "version": "3.8.13"
  }
 },
 "nbformat": 4,
 "nbformat_minor": 5
}
